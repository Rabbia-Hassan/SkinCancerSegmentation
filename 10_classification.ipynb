{
 "cells": [
  {
   "cell_type": "code",
   "execution_count": 1,
   "metadata": {},
   "outputs": [],
   "source": [
    "import numpy as np\n",
    "import os"
   ]
  },
  {
   "cell_type": "code",
   "execution_count": 2,
   "metadata": {},
   "outputs": [],
   "source": [
    "from matplotlib.colors import ListedColormap\n",
    "import matplotlib.pyplot as plt\n",
    "\n",
    "color_dict = {\n",
    "    0 : [\"EPI\", [73, 0, 106]],\n",
    "    1 : [\"GLD\", [108, 0, 115]],\n",
    "    2 : [\"INF\", [145, 1, 122]],\n",
    "    3 : [\"RET\", [181, 9, 130]],\n",
    "    4 : [\"FOL\", [216, 47, 148]],\n",
    "    5 : [\"PAP\", [236, 85, 157]],\n",
    "    6 : [\"HYP\", [254, 246, 242]],\n",
    "    7 : [\"KER\", [248, 123, 168]],\n",
    "    8 : [\"BKG\", [0, 0, 0]],\n",
    "    9 : [\"BCC\", [127, 255, 255]],\n",
    "    10 : [\"SCC\", [127, 255, 142]],\n",
    "    11 : [\"IEC\", [255, 127, 127]]\n",
    "}\n",
    "\n",
    "colors = []\n",
    "for i in range(12):\n",
    "    c = [_/255. for _ in color_dict[i][1]]\n",
    "    colors.append(c)\n",
    "    \n",
    "seg_cmap = ListedColormap(colors, name='segmentationCMAP', N=None)"
   ]
  },
  {
   "cell_type": "code",
   "execution_count": 3,
   "metadata": {},
   "outputs": [],
   "source": [
    "#DATA_DIR = \"/home/simon/Desktop/SegmentationRevision/PROB_MAPS_REDO\"\n",
    "#DATA_DIR = \"/media/simon/UNTITLED/PROB_MAPS_REDO\"\n",
    "#DATA_DIR = \"/media/simon/UNTITLED/PROB_MAPS_REDO/maps/\"\n",
    "DATA_DIR = \"/home/simon/Desktop/SegmentationRevision/NEW_PROB_MAPS/\""
   ]
  },
  {
   "cell_type": "code",
   "execution_count": 4,
   "metadata": {},
   "outputs": [],
   "source": [
    "test_names = [\"IEC_45\",\n",
    "\"SCC_23\",\n",
    "\"SCC_32\",\n",
    "\"BCC_131\",\n",
    "\"BCC_135\",\n",
    "\"SCC_52\",\n",
    "\"SCC_20\",\n",
    "\"BCC_4\",\n",
    "\"SCC_9\",\n",
    "\"BCC_48\",\n",
    "\"BCC_80\",\n",
    "\"SCC_38\",\n",
    "\"BCC_95\",\n",
    "\"BCC_86\",\n",
    "\"BCC_133\",\n",
    "\"IEC_75\",\n",
    "\"BCC_51\",\n",
    "\"IEC_41\",\n",
    "\"BCC_90\",\n",
    "\"BCC_74\",\n",
    "\"BCC_22\",\n",
    "\"SCC_7\",\n",
    "\"SCC_24\",\n",
    "\"IEC_22\",\n",
    "\"IEC_23\",\n",
    "\"BCC_60\",\n",
    "\"BCC_61\",\n",
    "\"IEC_34\",\n",
    "\"IEC_35\",\n",
    "\"BCC_23\",\n",
    "\"BCC_24\",\n",
    "\"IEC_75_HEAL_2\",\n",
    "\"SCC_32_HEAL\",\n",
    "\"BCC_95_HEAL_2\",\n",
    "\"BCC_22_HEAL\",\n",
    "\"BCC_131_HEAL_2\",\n",
    "\"BCC_48_HEAL_1\",\n",
    "\"IEC_45_HEAL\",\n",
    "\"BCC_60_HEAL\",\n",
    "\"BCC_48_HEAL_2\",\n",
    "\"IEC_75_HEAL_1\",\n",
    "\"BCC_74_HEAL\",\n",
    "\"BCC_131_HEAL_1\",\n",
    "\"BCC_86_HEAL_1\",\n",
    "\"BCC_86_HEAL_2\",\n",
    "\"BCC_90_HEAL\",\n",
    "\"BCC_95_HEAL_1\"\n",
    "             ]\n",
    "\n",
    "val_names = [\"BCC_110\",\n",
    "\"BCC_65\",\n",
    "\"BCC_3\",\n",
    "\"BCC_112\",\n",
    "\"BCC_126\",\n",
    "\"IEC_85\",\n",
    "\"BCC_39\",\n",
    "\"SCC_3\",\n",
    "\"BCC_9\",\n",
    "\"SCC_37\",\n",
    "\"BCC_99\",\n",
    "\"BCC_53\",\n",
    "\"BCC_70\",\n",
    "\"BCC_117\",\n",
    "\"BCC_15\",\n",
    "\"BCC_104\",\n",
    "\"IEC_78\",\n",
    "\"BCC_109\",\n",
    "\"BCC_93\",\n",
    "\"BCC_138\",\n",
    "\"BCC_100\",\n",
    "\"BCC_91\",\n",
    "\"IEC_2\",\n",
    "\"IEC_3\",\n",
    "\"SCC_1\",\n",
    "\"SCC_2\",\n",
    "\"BCC_5\",\n",
    "\"BCC_6\",\n",
    "\"BCC_9_HEAL_1\",\n",
    "\"BCC_9_HEAL_2\",\n",
    "\"BCC_15_HEAL\",\n",
    "\"BCC_15_HEAL_2\",\n",
    "\"BCC_39_HEAL_1\",\n",
    "\"BCC_39_HEAL_2\",\n",
    "\"BCC_53_HEAL\",\n",
    "\"BCC_64_HEAL\",\n",
    "\"BCC_91_HEAL\",\n",
    "\"BCC_93_HEAL\",\n",
    "\"BCC_99_HEAL\",\n",
    "\"BCC_109_HEAL\",\n",
    "\"BCC_126_HEAL_1\",\n",
    "\"BCC_126_HEAL_2\"\n",
    "]\n",
    "\n",
    "test_names = [f + \".npy\" for f in test_names]\n",
    "val_names = [f + \".npy\" for f in val_names]"
   ]
  },
  {
   "cell_type": "code",
   "execution_count": 5,
   "metadata": {},
   "outputs": [],
   "source": [
    "all_files = [ file for file in os.listdir(DATA_DIR)]"
   ]
  },
  {
   "cell_type": "code",
   "execution_count": 6,
   "metadata": {},
   "outputs": [],
   "source": [
    "train_files = []\n",
    "test_files = []\n",
    "val_files = []\n",
    "\n",
    "for file in all_files:\n",
    "    if file in test_names:\n",
    "        test_files.append(file)\n",
    "    elif file in val_names:\n",
    "        val_files.append(file)\n",
    "    else:\n",
    "        train_files.append(file)"
   ]
  },
  {
   "cell_type": "code",
   "execution_count": 7,
   "metadata": {},
   "outputs": [
    {
     "data": {
      "text/plain": [
       "291"
      ]
     },
     "execution_count": 7,
     "metadata": {},
     "output_type": "execute_result"
    }
   ],
   "source": [
    "len(train_files)"
   ]
  },
  {
   "cell_type": "code",
   "execution_count": 8,
   "metadata": {},
   "outputs": [
    {
     "data": {
      "text/plain": [
       "47"
      ]
     },
     "execution_count": 8,
     "metadata": {},
     "output_type": "execute_result"
    }
   ],
   "source": [
    "len(test_files)"
   ]
  },
  {
   "cell_type": "code",
   "execution_count": 9,
   "metadata": {},
   "outputs": [
    {
     "data": {
      "text/plain": [
       "42"
      ]
     },
     "execution_count": 9,
     "metadata": {},
     "output_type": "execute_result"
    }
   ],
   "source": [
    "len(val_files)"
   ]
  },
  {
   "cell_type": "markdown",
   "metadata": {},
   "source": [
    "# Data Gen"
   ]
  },
  {
   "cell_type": "code",
   "execution_count": 10,
   "metadata": {},
   "outputs": [],
   "source": [
    "def softmax(x):\n",
    "    return np.exp(x) / np.sum(np.exp(x), axis=-1, keepdims=True)\n",
    "\n",
    "class DataGen:\n",
    "    \"\"\"\n",
    "    A data generator that can handing multiple workers if used in conjunction with\n",
    "    the model.fit_generator method.\n",
    "    Enables simplification of images by using pixelation e.g. 128x128 >> 16x16 >> 128x128,\n",
    "    paired with smooth transitions between scales using alpha, as well as gaussian blurring\n",
    "    controlled by sigma.\n",
    "    It is a generator so `X, y = next(generator)` will get a new batch, but indexing also works and\n",
    "    is preferred e.g. `X, y = generator[0]`.\n",
    "    \"\"\"\n",
    "\n",
    "    def __init__(self, img_dir, batch_size, shuffle=True, apply_to_all=False):\n",
    "        self.img_dir = img_dir\n",
    "        self.batch_size = batch_size\n",
    "        self.files = np.array(os.listdir(self.img_dir))\n",
    "        self.n = len(self.files)\n",
    "        self.indices = np.arange(0, self.n)\n",
    "        if shuffle:\n",
    "            np.random.shuffle(self.indices)\n",
    "        self.pos = 0\n",
    "        self.apply_to_all = apply_to_all\n",
    "\n",
    "    def _get_indices(self, i):\n",
    "        return self.indices[i * self.batch_size:i * self.batch_size + self.batch_size]\n",
    "\n",
    "    def __getitem__(self, i):\n",
    "        batch = []\n",
    "        labels = []\n",
    "        files = self.files[self._get_indices(i)]\n",
    "        for file in files:\n",
    "            # Get input\n",
    "            #img = one_hot(np.expand_dims(np.argmax(np.load(os.path.join(self.img_dir, file)), axis=-1), 0))\n",
    "            img = np.expand_dims(np.load(os.path.join(self.img_dir, file)), 0)\n",
    "            \n",
    "            # Get label\n",
    "            if \"HEAL\" in file:\n",
    "                labels.append(np.array([1, 0, 0, 0.]))\n",
    "            elif \"BCC\" in file:\n",
    "                labels.append(np.array([0., 1, 0, 0]))\n",
    "            elif \"IEC\" in file:\n",
    "                labels.append(np.array([0, 0., 1, 0]))\n",
    "            elif \"SCC\" in file:\n",
    "                labels.append(np.array([0, 0, 0., 1]))\n",
    "                \n",
    "            if self.apply_to_all:\n",
    "                img = softmax(img)\n",
    "            # Add to batch\n",
    "            batch.append(img)\n",
    "                    \n",
    "        return batch[0], np.stack(labels)\n",
    "\n",
    "    def __next__(self):\n",
    "        self.pos += 1\n",
    "        if self.pos > self.n // self.batch_size:\n",
    "            self.pos = 1\n",
    "        return self.__getitem__(self.pos - 1)\n",
    "    \n",
    "    def set_files(self, files):\n",
    "        self.files = np.array([os.path.join(self.img_dir, file) for file in files])\n",
    "        self.n = len(self.files)\n",
    "        self.indices = np.arange(0, self.n)\n",
    "        np.random.shuffle(self.indices)\n",
    "        self.pos = 0\n",
    "        print(\"files updated\")"
   ]
  },
  {
   "cell_type": "code",
   "execution_count": 11,
   "metadata": {},
   "outputs": [],
   "source": [
    "train_gen = DataGen(DATA_DIR, 1, apply_to_all=True)\n",
    "val_gen = DataGen(DATA_DIR, 1, apply_to_all=True)\n",
    "test_gen = DataGen(DATA_DIR, 1, apply_to_all=True)"
   ]
  },
  {
   "cell_type": "code",
   "execution_count": 12,
   "metadata": {},
   "outputs": [
    {
     "name": "stdout",
     "output_type": "stream",
     "text": [
      "files updated\n",
      "files updated\n",
      "files updated\n"
     ]
    }
   ],
   "source": [
    "train_gen.set_files(train_files)\n",
    "val_gen.set_files(val_files)\n",
    "test_gen.set_files(test_files)"
   ]
  },
  {
   "cell_type": "markdown",
   "metadata": {},
   "source": [
    "# Model"
   ]
  },
  {
   "cell_type": "code",
   "execution_count": 13,
   "metadata": {},
   "outputs": [
    {
     "name": "stderr",
     "output_type": "stream",
     "text": [
      "Using TensorFlow backend.\n",
      "/home/simon/anaconda3/envs/DL/lib/python3.6/site-packages/tensorflow/python/framework/dtypes.py:523: FutureWarning: Passing (type, 1) or '1type' as a synonym of type is deprecated; in a future version of numpy, it will be understood as (type, (1,)) / '(1,)type'.\n",
      "  _np_qint8 = np.dtype([(\"qint8\", np.int8, 1)])\n",
      "/home/simon/anaconda3/envs/DL/lib/python3.6/site-packages/tensorflow/python/framework/dtypes.py:524: FutureWarning: Passing (type, 1) or '1type' as a synonym of type is deprecated; in a future version of numpy, it will be understood as (type, (1,)) / '(1,)type'.\n",
      "  _np_quint8 = np.dtype([(\"quint8\", np.uint8, 1)])\n",
      "/home/simon/anaconda3/envs/DL/lib/python3.6/site-packages/tensorflow/python/framework/dtypes.py:525: FutureWarning: Passing (type, 1) or '1type' as a synonym of type is deprecated; in a future version of numpy, it will be understood as (type, (1,)) / '(1,)type'.\n",
      "  _np_qint16 = np.dtype([(\"qint16\", np.int16, 1)])\n",
      "/home/simon/anaconda3/envs/DL/lib/python3.6/site-packages/tensorflow/python/framework/dtypes.py:526: FutureWarning: Passing (type, 1) or '1type' as a synonym of type is deprecated; in a future version of numpy, it will be understood as (type, (1,)) / '(1,)type'.\n",
      "  _np_quint16 = np.dtype([(\"quint16\", np.uint16, 1)])\n",
      "/home/simon/anaconda3/envs/DL/lib/python3.6/site-packages/tensorflow/python/framework/dtypes.py:527: FutureWarning: Passing (type, 1) or '1type' as a synonym of type is deprecated; in a future version of numpy, it will be understood as (type, (1,)) / '(1,)type'.\n",
      "  _np_qint32 = np.dtype([(\"qint32\", np.int32, 1)])\n",
      "/home/simon/anaconda3/envs/DL/lib/python3.6/site-packages/tensorflow/python/framework/dtypes.py:532: FutureWarning: Passing (type, 1) or '1type' as a synonym of type is deprecated; in a future version of numpy, it will be understood as (type, (1,)) / '(1,)type'.\n",
      "  np_resource = np.dtype([(\"resource\", np.ubyte, 1)])\n"
     ]
    }
   ],
   "source": [
    "from keras.models import Model\n",
    "from keras.layers import *\n",
    "from keras.optimizers import Adam"
   ]
  },
  {
   "cell_type": "code",
   "execution_count": 14,
   "metadata": {},
   "outputs": [],
   "source": [
    "import keras.backend as K"
   ]
  },
  {
   "cell_type": "code",
   "execution_count": 15,
   "metadata": {},
   "outputs": [
    {
     "name": "stdout",
     "output_type": "stream",
     "text": [
      "_________________________________________________________________\n",
      "Layer (type)                 Output Shape              Param #   \n",
      "=================================================================\n",
      "input_1 (InputLayer)         (None, None, None, 12)    0         \n",
      "_________________________________________________________________\n",
      "conv2d_1 (Conv2D)            (None, None, None, 32)    3488      \n",
      "_________________________________________________________________\n",
      "conv2d_2 (Conv2D)            (None, None, None, 32)    9248      \n",
      "_________________________________________________________________\n",
      "conv2d_3 (Conv2D)            (None, None, None, 32)    9248      \n",
      "_________________________________________________________________\n",
      "global_average_pooling2d_1 ( (None, 32)                0         \n",
      "_________________________________________________________________\n",
      "dense_1 (Dense)              (None, 16)                528       \n",
      "_________________________________________________________________\n",
      "dense_2 (Dense)              (None, 4)                 68        \n",
      "=================================================================\n",
      "Total params: 22,580\n",
      "Trainable params: 22,580\n",
      "Non-trainable params: 0\n",
      "_________________________________________________________________\n"
     ]
    }
   ],
   "source": [
    "K.clear_session()\n",
    "\n",
    "model_in = Input(shape=(None, None, 12))\n",
    "x = Conv2D(32, (3, 3), padding=\"same\", activation=\"relu\")(model_in)\n",
    "x = Conv2D(32, (3, 3), padding=\"same\", activation=\"relu\")(x)\n",
    "x = Conv2D(32, (3, 3), padding=\"same\", activation=\"relu\")(x)\n",
    "x = GlobalAveragePooling2D()(x)\n",
    "x = Dense(16, activation=\"relu\")(x)\n",
    "model_out = Dense(4, activation=\"softmax\")(x)\n",
    "model = Model(inputs=[model_in], outputs=[model_out])\n",
    "model.summary()"
   ]
  },
  {
   "cell_type": "code",
   "execution_count": 16,
   "metadata": {},
   "outputs": [],
   "source": [
    "model.compile(optimizer=(Adam(lr=0.001)), loss='categorical_crossentropy', metrics=[\"acc\"])"
   ]
  },
  {
   "cell_type": "code",
   "execution_count": 17,
   "metadata": {},
   "outputs": [],
   "source": [
    "# history = model.fit_generator(generator=train_gen,\n",
    "#                               steps_per_epoch=train_gen.n,\n",
    "#                               epochs=1,\n",
    "#                               validation_data=val_gen,\n",
    "#                               validation_steps=val_gen.n,\n",
    "#                               workers=6,\n",
    "#                               use_multiprocessing=True,\n",
    "#                               #callbacks=[check_point]\n",
    "#                              )"
   ]
  },
  {
   "cell_type": "code",
   "execution_count": 50,
   "metadata": {},
   "outputs": [],
   "source": [
    "#model.save_weights(\"./classification_weights__EPOCH_7_train_95_val_1.h5\")"
   ]
  },
  {
   "cell_type": "code",
   "execution_count": 17,
   "metadata": {},
   "outputs": [],
   "source": [
    "model.load_weights(\"./classification_weights__EPOCH_5_train_95_val_1.h5\")"
   ]
  },
  {
   "cell_type": "markdown",
   "metadata": {},
   "source": [
    "<br>"
   ]
  },
  {
   "cell_type": "code",
   "execution_count": 41,
   "metadata": {},
   "outputs": [
    {
     "data": {
      "text/plain": [
       "0.8936170212765957"
      ]
     },
     "execution_count": 41,
     "metadata": {},
     "output_type": "execute_result"
    }
   ],
   "source": [
    "loss, acc = model.evaluate_generator(generator=test_gen, steps=test_gen.n, verbose=1)\n",
    "acc # epoch 4"
   ]
  },
  {
   "cell_type": "code",
   "execution_count": 53,
   "metadata": {},
   "outputs": [
    {
     "name": "stdout",
     "output_type": "stream",
     "text": [
      "47/47 [==============================] - 16s 339ms/step\n"
     ]
    },
    {
     "data": {
      "text/plain": [
       "0.9361702127659575"
      ]
     },
     "execution_count": 53,
     "metadata": {},
     "output_type": "execute_result"
    }
   ],
   "source": [
    "loss, acc = model.evaluate_generator(generator=test_gen, steps=test_gen.n, verbose=1)\n",
    "acc #  EPOCH 5"
   ]
  },
  {
   "cell_type": "code",
   "execution_count": 54,
   "metadata": {},
   "outputs": [],
   "source": [
    "true = []\n",
    "pred = []\n",
    "for i in range(test_gen.n):\n",
    "    X, y = test_gen[i]\n",
    "    \n",
    "    \n",
    "    y_pred = model.predict(X)\n",
    "    \n",
    "    pred.append(y_pred)\n",
    "    true.append(y)\n",
    "    \n",
    "true = np.vstack(true)\n",
    "pred = np.vstack(pred)"
   ]
  },
  {
   "cell_type": "code",
   "execution_count": 55,
   "metadata": {},
   "outputs": [
    {
     "data": {
      "text/plain": [
       "(47, 4)"
      ]
     },
     "execution_count": 55,
     "metadata": {},
     "output_type": "execute_result"
    }
   ],
   "source": [
    "pred.shape"
   ]
  },
  {
   "cell_type": "code",
   "execution_count": 56,
   "metadata": {},
   "outputs": [
    {
     "data": {
      "text/plain": [
       "array([ True,  True,  True,  True,  True, False, False,  True,  True,\n",
       "        True,  True,  True,  True,  True,  True,  True,  True,  True,\n",
       "        True,  True,  True,  True,  True,  True,  True,  True,  True,\n",
       "        True,  True, False,  True,  True,  True,  True,  True,  True,\n",
       "        True,  True,  True,  True,  True,  True,  True,  True,  True,\n",
       "        True,  True])"
      ]
     },
     "execution_count": 56,
     "metadata": {},
     "output_type": "execute_result"
    }
   ],
   "source": [
    "np.argmax(pred, axis=-1) == np.argmax(true, axis=-1).flatten()"
   ]
  },
  {
   "cell_type": "code",
   "execution_count": 57,
   "metadata": {},
   "outputs": [],
   "source": [
    "cm = np.zeros((4, 4))"
   ]
  },
  {
   "cell_type": "code",
   "execution_count": 58,
   "metadata": {},
   "outputs": [
    {
     "data": {
      "text/plain": [
       "0.9361702127659575"
      ]
     },
     "execution_count": 58,
     "metadata": {},
     "output_type": "execute_result"
    }
   ],
   "source": [
    "y_pred = np.argmax(pred, axis=-1)\n",
    "y_true = np.argmax(true, axis=-1).flatten()\n",
    "\n",
    "np.sum(y_pred == y_true) / len(y_true)"
   ]
  },
  {
   "cell_type": "code",
   "execution_count": 59,
   "metadata": {},
   "outputs": [
    {
     "data": {
      "text/plain": [
       "array([[16.,  0.,  0.,  0.],\n",
       "       [ 1., 14.,  1.,  0.],\n",
       "       [ 0.,  1.,  6.,  0.],\n",
       "       [ 0.,  0.,  0.,  8.]])"
      ]
     },
     "execution_count": 59,
     "metadata": {},
     "output_type": "execute_result"
    }
   ],
   "source": [
    "for i in range(len(y_pred)):\n",
    "    r = y_true[i]\n",
    "    c = y_pred[i]\n",
    "    cm[r, c] += 1\n",
    "cm"
   ]
  },
  {
   "cell_type": "markdown",
   "metadata": {},
   "source": [
    "# Check distributions"
   ]
  },
  {
   "cell_type": "code",
   "execution_count": 23,
   "metadata": {},
   "outputs": [
    {
     "name": "stdout",
     "output_type": "stream",
     "text": [
      "0 of 291\n",
      "1 of 291\n",
      "2 of 291\n",
      "3 of 291\n",
      "4 of 291\n",
      "5 of 291\n",
      "6 of 291\n",
      "7 of 291\n",
      "8 of 291\n",
      "9 of 291\n",
      "10 of 291\n",
      "11 of 291\n",
      "12 of 291\n",
      "13 of 291\n",
      "14 of 291\n",
      "15 of 291\n",
      "16 of 291\n",
      "17 of 291\n",
      "18 of 291\n",
      "19 of 291\n",
      "20 of 291\n",
      "21 of 291\n",
      "22 of 291\n",
      "23 of 291\n",
      "24 of 291\n",
      "25 of 291\n",
      "26 of 291\n",
      "27 of 291\n",
      "28 of 291\n",
      "29 of 291\n",
      "30 of 291\n",
      "31 of 291\n",
      "32 of 291\n",
      "33 of 291\n",
      "34 of 291\n",
      "35 of 291\n",
      "36 of 291\n",
      "37 of 291\n",
      "38 of 291\n",
      "39 of 291\n",
      "40 of 291\n",
      "41 of 291\n",
      "42 of 291\n",
      "43 of 291\n",
      "44 of 291\n",
      "45 of 291\n",
      "46 of 291\n",
      "47 of 291\n",
      "48 of 291\n",
      "49 of 291\n",
      "50 of 291\n",
      "51 of 291\n",
      "52 of 291\n",
      "53 of 291\n",
      "54 of 291\n",
      "55 of 291\n",
      "56 of 291\n",
      "57 of 291\n",
      "58 of 291\n",
      "59 of 291\n",
      "60 of 291\n",
      "61 of 291\n",
      "62 of 291\n",
      "63 of 291\n",
      "64 of 291\n",
      "65 of 291\n",
      "66 of 291\n",
      "67 of 291\n",
      "68 of 291\n",
      "69 of 291\n",
      "70 of 291\n",
      "71 of 291\n",
      "72 of 291\n",
      "73 of 291\n",
      "74 of 291\n",
      "75 of 291\n",
      "76 of 291\n",
      "77 of 291\n",
      "78 of 291\n",
      "79 of 291\n",
      "80 of 291\n",
      "81 of 291\n",
      "82 of 291\n",
      "83 of 291\n",
      "84 of 291\n",
      "85 of 291\n",
      "86 of 291\n",
      "87 of 291\n",
      "88 of 291\n",
      "89 of 291\n",
      "90 of 291\n",
      "91 of 291\n",
      "92 of 291\n",
      "93 of 291\n",
      "94 of 291\n",
      "95 of 291\n",
      "96 of 291\n",
      "97 of 291\n",
      "98 of 291\n",
      "99 of 291\n",
      "100 of 291\n",
      "101 of 291\n",
      "102 of 291\n",
      "103 of 291\n",
      "104 of 291\n",
      "105 of 291\n",
      "106 of 291\n",
      "107 of 291\n",
      "108 of 291\n",
      "109 of 291\n",
      "110 of 291\n",
      "111 of 291\n",
      "112 of 291\n",
      "113 of 291\n",
      "114 of 291\n",
      "115 of 291\n",
      "116 of 291\n",
      "117 of 291\n",
      "118 of 291\n",
      "119 of 291\n",
      "120 of 291\n",
      "121 of 291\n",
      "122 of 291\n",
      "123 of 291\n",
      "124 of 291\n",
      "125 of 291\n",
      "126 of 291\n",
      "127 of 291\n",
      "128 of 291\n",
      "129 of 291\n",
      "130 of 291\n",
      "131 of 291\n",
      "132 of 291\n",
      "133 of 291\n",
      "134 of 291\n",
      "135 of 291\n",
      "136 of 291\n",
      "137 of 291\n",
      "138 of 291\n",
      "139 of 291\n",
      "140 of 291\n",
      "141 of 291\n",
      "142 of 291\n",
      "143 of 291\n",
      "144 of 291\n",
      "145 of 291\n",
      "146 of 291\n",
      "147 of 291\n",
      "148 of 291\n",
      "149 of 291\n",
      "150 of 291\n",
      "151 of 291\n",
      "152 of 291\n",
      "153 of 291\n",
      "154 of 291\n",
      "155 of 291\n",
      "156 of 291\n",
      "157 of 291\n",
      "158 of 291\n",
      "159 of 291\n",
      "160 of 291\n",
      "161 of 291\n",
      "162 of 291\n",
      "163 of 291\n",
      "164 of 291\n",
      "165 of 291\n",
      "166 of 291\n",
      "167 of 291\n",
      "168 of 291\n",
      "169 of 291\n",
      "170 of 291\n",
      "171 of 291\n",
      "172 of 291\n",
      "173 of 291\n",
      "174 of 291\n",
      "175 of 291\n",
      "176 of 291\n",
      "177 of 291\n",
      "178 of 291\n",
      "179 of 291\n",
      "180 of 291\n",
      "181 of 291\n",
      "182 of 291\n",
      "183 of 291\n",
      "184 of 291\n",
      "185 of 291\n",
      "186 of 291\n",
      "187 of 291\n",
      "188 of 291\n",
      "189 of 291\n",
      "190 of 291\n",
      "191 of 291\n",
      "192 of 291\n",
      "193 of 291\n",
      "194 of 291\n",
      "195 of 291\n",
      "196 of 291\n",
      "197 of 291\n",
      "198 of 291\n",
      "199 of 291\n",
      "200 of 291\n",
      "201 of 291\n",
      "202 of 291\n",
      "203 of 291\n",
      "204 of 291\n",
      "205 of 291\n",
      "206 of 291\n",
      "207 of 291\n",
      "208 of 291\n",
      "209 of 291\n",
      "210 of 291\n",
      "211 of 291\n",
      "212 of 291\n",
      "213 of 291\n",
      "214 of 291\n",
      "215 of 291\n",
      "216 of 291\n",
      "217 of 291\n",
      "218 of 291\n",
      "219 of 291\n",
      "220 of 291\n",
      "221 of 291\n",
      "222 of 291\n",
      "223 of 291\n",
      "224 of 291\n",
      "225 of 291\n",
      "226 of 291\n",
      "227 of 291\n",
      "228 of 291\n",
      "229 of 291\n",
      "230 of 291\n",
      "231 of 291\n",
      "232 of 291\n",
      "233 of 291\n",
      "234 of 291\n",
      "235 of 291\n",
      "236 of 291\n",
      "237 of 291\n",
      "238 of 291\n",
      "239 of 291\n",
      "240 of 291\n",
      "241 of 291\n",
      "242 of 291\n",
      "243 of 291\n",
      "244 of 291\n",
      "245 of 291\n",
      "246 of 291\n",
      "247 of 291\n",
      "248 of 291\n",
      "249 of 291\n",
      "250 of 291\n",
      "251 of 291\n",
      "252 of 291\n",
      "253 of 291\n",
      "254 of 291\n",
      "255 of 291\n",
      "256 of 291\n",
      "257 of 291\n",
      "258 of 291\n",
      "259 of 291\n",
      "260 of 291\n",
      "261 of 291\n",
      "262 of 291\n",
      "263 of 291\n",
      "264 of 291\n",
      "265 of 291\n",
      "266 of 291\n",
      "267 of 291\n",
      "268 of 291\n",
      "269 of 291\n",
      "270 of 291\n",
      "271 of 291\n",
      "272 of 291\n",
      "273 of 291\n",
      "274 of 291\n",
      "275 of 291\n",
      "276 of 291\n",
      "277 of 291\n",
      "278 of 291\n",
      "279 of 291\n",
      "280 of 291\n",
      "281 of 291\n",
      "282 of 291\n",
      "283 of 291\n",
      "284 of 291\n",
      "285 of 291\n",
      "286 of 291\n",
      "287 of 291\n",
      "288 of 291\n",
      "289 of 291\n",
      "290 of 291\n"
     ]
    }
   ],
   "source": [
    "# TRAIN\n",
    "distros = []\n",
    "n = len(train_gen.files)\n",
    "for i, file in enumerate(train_gen.files):\n",
    "    print(i, \"of\", n)\n",
    "    img = np.load(file)\n",
    "    dist = np.mean(img, axis=(0, 1))\n",
    "    distros.append(dist)\n",
    "distros = np.stack(distros)"
   ]
  },
  {
   "cell_type": "code",
   "execution_count": 28,
   "metadata": {},
   "outputs": [
    {
     "name": "stdout",
     "output_type": "stream",
     "text": [
      "0 of 42\n",
      "1 of 42\n",
      "2 of 42\n",
      "3 of 42\n",
      "4 of 42\n",
      "5 of 42\n",
      "6 of 42\n",
      "7 of 42\n",
      "8 of 42\n",
      "9 of 42\n",
      "10 of 42\n",
      "11 of 42\n",
      "12 of 42\n",
      "13 of 42\n",
      "14 of 42\n",
      "15 of 42\n",
      "16 of 42\n",
      "17 of 42\n",
      "18 of 42\n",
      "19 of 42\n",
      "20 of 42\n",
      "21 of 42\n",
      "22 of 42\n",
      "23 of 42\n",
      "24 of 42\n",
      "25 of 42\n",
      "26 of 42\n",
      "27 of 42\n",
      "28 of 42\n",
      "29 of 42\n",
      "30 of 42\n",
      "31 of 42\n",
      "32 of 42\n",
      "33 of 42\n",
      "34 of 42\n",
      "35 of 42\n",
      "36 of 42\n",
      "37 of 42\n",
      "38 of 42\n",
      "39 of 42\n",
      "40 of 42\n",
      "41 of 42\n"
     ]
    }
   ],
   "source": [
    "# Validation\n",
    "val_distros = []\n",
    "n = len(val_gen.files)\n",
    "for i, file in enumerate(val_gen.files):\n",
    "    print(i, \"of\", n)\n",
    "    img = np.load(file)\n",
    "    dist = np.mean(img, axis=(0, 1))\n",
    "    val_distros.append(dist)\n",
    "val_distros = np.stack(val_distros)"
   ]
  },
  {
   "cell_type": "code",
   "execution_count": 29,
   "metadata": {},
   "outputs": [
    {
     "name": "stdout",
     "output_type": "stream",
     "text": [
      "0 of 47\n",
      "1 of 47\n",
      "2 of 47\n",
      "3 of 47\n",
      "4 of 47\n",
      "5 of 47\n",
      "6 of 47\n",
      "7 of 47\n",
      "8 of 47\n",
      "9 of 47\n",
      "10 of 47\n",
      "11 of 47\n",
      "12 of 47\n",
      "13 of 47\n",
      "14 of 47\n",
      "15 of 47\n",
      "16 of 47\n",
      "17 of 47\n",
      "18 of 47\n",
      "19 of 47\n",
      "20 of 47\n",
      "21 of 47\n",
      "22 of 47\n",
      "23 of 47\n",
      "24 of 47\n",
      "25 of 47\n",
      "26 of 47\n",
      "27 of 47\n",
      "28 of 47\n",
      "29 of 47\n",
      "30 of 47\n",
      "31 of 47\n",
      "32 of 47\n",
      "33 of 47\n",
      "34 of 47\n",
      "35 of 47\n",
      "36 of 47\n",
      "37 of 47\n",
      "38 of 47\n",
      "39 of 47\n",
      "40 of 47\n",
      "41 of 47\n",
      "42 of 47\n",
      "43 of 47\n",
      "44 of 47\n",
      "45 of 47\n",
      "46 of 47\n"
     ]
    }
   ],
   "source": [
    "# Test\n",
    "test_distros = []\n",
    "n = len(test_gen.files)\n",
    "for i, file in enumerate(test_gen.files):\n",
    "    print(i, \"of\", n)\n",
    "    img = np.load(file)\n",
    "    dist = np.mean(img, axis=(0, 1))\n",
    "    test_distros.append(dist)\n",
    "test_distros = np.stack(test_distros)"
   ]
  },
  {
   "cell_type": "code",
   "execution_count": 61,
   "metadata": {},
   "outputs": [],
   "source": [
    "# ------------ EXTERNAL --------------------------------------- #\n",
    "EXT_DATA_DIR = \"/media/simon/UNTITLED/PROB_MAPS_REDO/maps/\"\n",
    "ext_gen = DataGen(EXT_DATA_DIR, 1, apply_to_all=True)"
   ]
  },
  {
   "cell_type": "code",
   "execution_count": 31,
   "metadata": {},
   "outputs": [
    {
     "name": "stdout",
     "output_type": "stream",
     "text": [
      "0 of 116\n",
      "1 of 116\n",
      "2 of 116\n",
      "3 of 116\n",
      "4 of 116\n",
      "5 of 116\n",
      "6 of 116\n",
      "7 of 116\n",
      "8 of 116\n",
      "9 of 116\n",
      "10 of 116\n",
      "11 of 116\n",
      "12 of 116\n",
      "13 of 116\n",
      "14 of 116\n",
      "15 of 116\n",
      "16 of 116\n",
      "17 of 116\n",
      "18 of 116\n",
      "19 of 116\n",
      "20 of 116\n",
      "21 of 116\n",
      "22 of 116\n",
      "23 of 116\n",
      "24 of 116\n",
      "25 of 116\n",
      "26 of 116\n",
      "27 of 116\n",
      "28 of 116\n",
      "29 of 116\n",
      "30 of 116\n",
      "31 of 116\n",
      "32 of 116\n",
      "33 of 116\n",
      "34 of 116\n",
      "35 of 116\n",
      "36 of 116\n",
      "37 of 116\n",
      "38 of 116\n",
      "39 of 116\n",
      "40 of 116\n",
      "41 of 116\n",
      "42 of 116\n",
      "43 of 116\n",
      "44 of 116\n",
      "45 of 116\n",
      "46 of 116\n",
      "47 of 116\n",
      "48 of 116\n",
      "49 of 116\n",
      "50 of 116\n",
      "51 of 116\n",
      "52 of 116\n",
      "53 of 116\n",
      "54 of 116\n",
      "55 of 116\n",
      "56 of 116\n",
      "57 of 116\n",
      "58 of 116\n",
      "59 of 116\n",
      "60 of 116\n",
      "61 of 116\n",
      "62 of 116\n",
      "63 of 116\n",
      "64 of 116\n",
      "65 of 116\n",
      "66 of 116\n",
      "67 of 116\n",
      "68 of 116\n",
      "69 of 116\n",
      "70 of 116\n",
      "71 of 116\n",
      "72 of 116\n",
      "73 of 116\n",
      "74 of 116\n",
      "75 of 116\n",
      "76 of 116\n",
      "77 of 116\n",
      "78 of 116\n",
      "79 of 116\n",
      "80 of 116\n",
      "81 of 116\n",
      "82 of 116\n",
      "83 of 116\n",
      "84 of 116\n",
      "85 of 116\n",
      "86 of 116\n",
      "87 of 116\n",
      "88 of 116\n",
      "89 of 116\n",
      "90 of 116\n",
      "91 of 116\n",
      "92 of 116\n",
      "93 of 116\n",
      "94 of 116\n",
      "95 of 116\n",
      "96 of 116\n",
      "97 of 116\n",
      "98 of 116\n",
      "99 of 116\n",
      "100 of 116\n",
      "101 of 116\n",
      "102 of 116\n",
      "103 of 116\n",
      "104 of 116\n",
      "105 of 116\n",
      "106 of 116\n",
      "107 of 116\n",
      "108 of 116\n",
      "109 of 116\n",
      "110 of 116\n",
      "111 of 116\n",
      "112 of 116\n",
      "113 of 116\n",
      "114 of 116\n",
      "115 of 116\n"
     ]
    }
   ],
   "source": [
    "\n",
    "ext_gen.files = [os.path.join(EXT_DATA_DIR, file) for file in ext_gen.files]\n",
    "\n",
    "# Test\n",
    "ext_distros = []\n",
    "n = len(ext_gen.files)\n",
    "for i, file in enumerate(ext_gen.files):\n",
    "    print(i, \"of\", n)\n",
    "    img = np.load(file)\n",
    "    dist = np.mean(img, axis=(0, 1))\n",
    "    ext_distros.append(dist)\n",
    "ext_distros = np.stack(ext_distros)"
   ]
  },
  {
   "cell_type": "markdown",
   "metadata": {},
   "source": [
    "### SHOW THEM"
   ]
  },
  {
   "cell_type": "code",
   "execution_count": 32,
   "metadata": {},
   "outputs": [
    {
     "data": {
      "image/png": "[encoded data removed]",
      "text/plain": [
       "<Figure size 432x288 with 1 Axes>"
      ]
     },
     "metadata": {
      "needs_background": "light"
     },
     "output_type": "display_data"
    },
    {
     "data": {
      "image/png": "[encoded data removed]",
      "text/plain": [
       "<Figure size 432x288 with 1 Axes>"
      ]
     },
     "metadata": {
      "needs_background": "light"
     },
     "output_type": "display_data"
    },
    {
     "data": {
      "image/png": "[encoded data removed]",
      "text/plain": [
       "<Figure size 432x288 with 1 Axes>"
      ]
     },
     "metadata": {
      "needs_background": "light"
     },
     "output_type": "display_data"
    },
    {
     "data": {
      "image/png": "[encoded data removed]",
      "text/plain": [
       "<Figure size 432x288 with 1 Axes>"
      ]
     },
     "metadata": {
      "needs_background": "light"
     },
     "output_type": "display_data"
    }
   ],
   "source": [
    "for distro in [distros, val_distros, test_distros, ext_distros]:\n",
    "    plt.title(\"\")\n",
    "    bplot = plt.boxplot(distro,\n",
    "                    showfliers=False,\n",
    "                    medianprops=dict(color=\"black\"),\n",
    "                    patch_artist=True\n",
    "                   )\n",
    "\n",
    "    for patch, color in zip(bplot[\"boxes\"], colors):\n",
    "        patch.set_facecolor(color)\n",
    "\n",
    "    plt.xticks(ticks=range(1, 13), labels=[color_dict[_][0] for _ in range(12)])\n",
    "    plt.show()"
   ]
  },
  {
   "cell_type": "markdown",
   "metadata": {},
   "source": [
    "# Other data"
   ]
  },
  {
   "cell_type": "code",
   "execution_count": 62,
   "metadata": {},
   "outputs": [
    {
     "name": "stdout",
     "output_type": "stream",
     "text": [
      "116/116 [==============================] - 143s 1s/step\n"
     ]
    },
    {
     "data": {
      "text/plain": [
       "0.8793103448275862"
      ]
     },
     "execution_count": 62,
     "metadata": {},
     "output_type": "execute_result"
    }
   ],
   "source": [
    "loss, acc = model.evaluate_generator(generator=ext_gen, steps=ext_gen.n, verbose=1)\n",
    "acc"
   ]
  },
  {
   "cell_type": "code",
   "execution_count": 63,
   "metadata": {},
   "outputs": [
    {
     "name": "stdout",
     "output_type": "stream",
     "text": [
      "0 of 116\n",
      "1 of 116\n",
      "2 of 116\n",
      "3 of 116\n",
      "4 of 116\n",
      "5 of 116\n",
      "6 of 116\n",
      "7 of 116\n",
      "8 of 116\n",
      "9 of 116\n",
      "10 of 116\n",
      "11 of 116\n",
      "12 of 116\n",
      "13 of 116\n",
      "14 of 116\n",
      "15 of 116\n",
      "16 of 116\n",
      "17 of 116\n",
      "18 of 116\n",
      "19 of 116\n",
      "20 of 116\n",
      "21 of 116\n",
      "22 of 116\n",
      "23 of 116\n",
      "24 of 116\n",
      "25 of 116\n",
      "26 of 116\n",
      "27 of 116\n",
      "28 of 116\n",
      "29 of 116\n",
      "30 of 116\n",
      "31 of 116\n",
      "32 of 116\n",
      "33 of 116\n",
      "34 of 116\n",
      "35 of 116\n",
      "36 of 116\n",
      "37 of 116\n",
      "38 of 116\n",
      "39 of 116\n",
      "40 of 116\n",
      "41 of 116\n",
      "42 of 116\n",
      "43 of 116\n",
      "44 of 116\n",
      "45 of 116\n",
      "46 of 116\n",
      "47 of 116\n",
      "48 of 116\n",
      "49 of 116\n",
      "50 of 116\n",
      "51 of 116\n",
      "52 of 116\n",
      "53 of 116\n",
      "54 of 116\n",
      "55 of 116\n",
      "56 of 116\n",
      "57 of 116\n",
      "58 of 116\n",
      "59 of 116\n",
      "60 of 116\n",
      "61 of 116\n",
      "62 of 116\n",
      "63 of 116\n",
      "64 of 116\n",
      "65 of 116\n",
      "66 of 116\n",
      "67 of 116\n",
      "68 of 116\n",
      "69 of 116\n",
      "70 of 116\n",
      "71 of 116\n",
      "72 of 116\n",
      "73 of 116\n",
      "74 of 116\n",
      "75 of 116\n",
      "76 of 116\n",
      "77 of 116\n",
      "78 of 116\n",
      "79 of 116\n",
      "80 of 116\n",
      "81 of 116\n",
      "82 of 116\n",
      "83 of 116\n",
      "84 of 116\n",
      "85 of 116\n",
      "86 of 116\n",
      "87 of 116\n",
      "88 of 116\n",
      "89 of 116\n",
      "90 of 116\n",
      "91 of 116\n",
      "92 of 116\n",
      "93 of 116\n",
      "94 of 116\n",
      "95 of 116\n",
      "96 of 116\n",
      "97 of 116\n",
      "98 of 116\n",
      "99 of 116\n",
      "100 of 116\n",
      "101 of 116\n",
      "102 of 116\n",
      "103 of 116\n",
      "104 of 116\n",
      "105 of 116\n",
      "106 of 116\n",
      "107 of 116\n",
      "108 of 116\n",
      "109 of 116\n",
      "110 of 116\n",
      "111 of 116\n",
      "112 of 116\n",
      "113 of 116\n",
      "114 of 116\n",
      "115 of 116\n"
     ]
    }
   ],
   "source": [
    "true = []\n",
    "pred = []\n",
    "for i in range(ext_gen.n):\n",
    "    \n",
    "    print(i, \"of\", ext_gen.n)\n",
    "    X, y = ext_gen[i]\n",
    "    \n",
    "    \n",
    "    y_pred = model.predict(X)\n",
    "    \n",
    "    pred.append(y_pred)\n",
    "    true.append(y)\n",
    "    \n",
    "true = np.vstack(true)\n",
    "pred = np.vstack(pred)"
   ]
  },
  {
   "cell_type": "code",
   "execution_count": 64,
   "metadata": {},
   "outputs": [],
   "source": [
    "cm = np.zeros((4, 4))"
   ]
  },
  {
   "cell_type": "code",
   "execution_count": 65,
   "metadata": {},
   "outputs": [
    {
     "data": {
      "text/plain": [
       "0.8793103448275862"
      ]
     },
     "execution_count": 65,
     "metadata": {},
     "output_type": "execute_result"
    }
   ],
   "source": [
    "y_pred = np.argmax(pred, axis=-1)\n",
    "y_true = np.argmax(true, axis=-1).flatten()\n",
    "\n",
    "np.sum(y_pred == y_true) / len(y_true)"
   ]
  },
  {
   "cell_type": "code",
   "execution_count": 66,
   "metadata": {},
   "outputs": [
    {
     "data": {
      "text/plain": [
       "array([[40.,  0.,  0.,  0.],\n",
       "       [ 2., 22.,  3.,  0.],\n",
       "       [ 1.,  1., 21.,  1.],\n",
       "       [ 0.,  0.,  6., 19.]])"
      ]
     },
     "execution_count": 66,
     "metadata": {},
     "output_type": "execute_result"
    }
   ],
   "source": [
    "for i in range(len(y_pred)):\n",
    "    r = y_true[i]\n",
    "    c = y_pred[i]\n",
    "    cm[r, c] += 1\n",
    "cm"
   ]
  },
  {
   "cell_type": "markdown",
   "metadata": {},
   "source": [
    "# Random Forrest"
   ]
  },
  {
   "cell_type": "code",
   "execution_count": 67,
   "metadata": {
    "scrolled": true
   },
   "outputs": [
    {
     "name": "stdout",
     "output_type": "stream",
     "text": [
      "0 of 291\n",
      "1 of 291\n",
      "2 of 291\n",
      "3 of 291\n",
      "4 of 291\n",
      "5 of 291\n",
      "6 of 291\n",
      "7 of 291\n",
      "8 of 291\n",
      "9 of 291\n",
      "10 of 291\n",
      "11 of 291\n",
      "12 of 291\n",
      "13 of 291\n",
      "14 of 291\n",
      "15 of 291\n",
      "16 of 291\n",
      "17 of 291\n",
      "18 of 291\n",
      "19 of 291\n",
      "20 of 291\n",
      "21 of 291\n",
      "22 of 291\n",
      "23 of 291\n",
      "24 of 291\n",
      "25 of 291\n",
      "26 of 291\n",
      "27 of 291\n",
      "28 of 291\n",
      "29 of 291\n",
      "30 of 291\n",
      "31 of 291\n",
      "32 of 291\n",
      "33 of 291\n",
      "34 of 291\n",
      "35 of 291\n",
      "36 of 291\n",
      "37 of 291\n",
      "38 of 291\n",
      "39 of 291\n",
      "40 of 291\n",
      "41 of 291\n",
      "42 of 291\n",
      "43 of 291\n",
      "44 of 291\n",
      "45 of 291\n",
      "46 of 291\n",
      "47 of 291\n",
      "48 of 291\n",
      "49 of 291\n",
      "50 of 291\n",
      "51 of 291\n",
      "52 of 291\n",
      "53 of 291\n",
      "54 of 291\n",
      "55 of 291\n",
      "56 of 291\n",
      "57 of 291\n",
      "58 of 291\n",
      "59 of 291\n",
      "60 of 291\n",
      "61 of 291\n",
      "62 of 291\n",
      "63 of 291\n",
      "64 of 291\n",
      "65 of 291\n",
      "66 of 291\n",
      "67 of 291\n",
      "68 of 291\n",
      "69 of 291\n",
      "70 of 291\n",
      "71 of 291\n",
      "72 of 291\n",
      "73 of 291\n",
      "74 of 291\n",
      "75 of 291\n",
      "76 of 291\n",
      "77 of 291\n",
      "78 of 291\n",
      "79 of 291\n",
      "80 of 291\n",
      "81 of 291\n",
      "82 of 291\n",
      "83 of 291\n",
      "84 of 291\n",
      "85 of 291\n",
      "86 of 291\n",
      "87 of 291\n",
      "88 of 291\n",
      "89 of 291\n",
      "90 of 291\n",
      "91 of 291\n",
      "92 of 291\n",
      "93 of 291\n",
      "94 of 291\n",
      "95 of 291\n",
      "96 of 291\n",
      "97 of 291\n",
      "98 of 291\n",
      "99 of 291\n",
      "100 of 291\n",
      "101 of 291\n",
      "102 of 291\n",
      "103 of 291\n",
      "104 of 291\n",
      "105 of 291\n",
      "106 of 291\n",
      "107 of 291\n",
      "108 of 291\n",
      "109 of 291\n",
      "110 of 291\n",
      "111 of 291\n",
      "112 of 291\n",
      "113 of 291\n",
      "114 of 291\n",
      "115 of 291\n",
      "116 of 291\n",
      "117 of 291\n",
      "118 of 291\n",
      "119 of 291\n",
      "120 of 291\n",
      "121 of 291\n",
      "122 of 291\n",
      "123 of 291\n",
      "124 of 291\n",
      "125 of 291\n",
      "126 of 291\n",
      "127 of 291\n",
      "128 of 291\n",
      "129 of 291\n",
      "130 of 291\n",
      "131 of 291\n",
      "132 of 291\n",
      "133 of 291\n",
      "134 of 291\n",
      "135 of 291\n",
      "136 of 291\n",
      "137 of 291\n",
      "138 of 291\n",
      "139 of 291\n",
      "140 of 291\n",
      "141 of 291\n",
      "142 of 291\n",
      "143 of 291\n",
      "144 of 291\n",
      "145 of 291\n",
      "146 of 291\n",
      "147 of 291\n",
      "148 of 291\n",
      "149 of 291\n",
      "150 of 291\n",
      "151 of 291\n",
      "152 of 291\n",
      "153 of 291\n",
      "154 of 291\n",
      "155 of 291\n",
      "156 of 291\n",
      "157 of 291\n",
      "158 of 291\n",
      "159 of 291\n",
      "160 of 291\n",
      "161 of 291\n",
      "162 of 291\n",
      "163 of 291\n",
      "164 of 291\n",
      "165 of 291\n",
      "166 of 291\n",
      "167 of 291\n",
      "168 of 291\n",
      "169 of 291\n",
      "170 of 291\n",
      "171 of 291\n",
      "172 of 291\n",
      "173 of 291\n",
      "174 of 291\n",
      "175 of 291\n",
      "176 of 291\n",
      "177 of 291\n",
      "178 of 291\n",
      "179 of 291\n",
      "180 of 291\n",
      "181 of 291\n",
      "182 of 291\n",
      "183 of 291\n",
      "184 of 291\n",
      "185 of 291\n",
      "186 of 291\n",
      "187 of 291\n",
      "188 of 291\n",
      "189 of 291\n",
      "190 of 291\n",
      "191 of 291\n",
      "192 of 291\n",
      "193 of 291\n",
      "194 of 291\n",
      "195 of 291\n",
      "196 of 291\n",
      "197 of 291\n",
      "198 of 291\n",
      "199 of 291\n",
      "200 of 291\n",
      "201 of 291\n",
      "202 of 291\n",
      "203 of 291\n",
      "204 of 291\n",
      "205 of 291\n",
      "206 of 291\n",
      "207 of 291\n",
      "208 of 291\n",
      "209 of 291\n",
      "210 of 291\n",
      "211 of 291\n",
      "212 of 291\n",
      "213 of 291\n",
      "214 of 291\n",
      "215 of 291\n",
      "216 of 291\n",
      "217 of 291\n",
      "218 of 291\n",
      "219 of 291\n",
      "220 of 291\n",
      "221 of 291\n",
      "222 of 291\n",
      "223 of 291\n",
      "224 of 291\n",
      "225 of 291\n",
      "226 of 291\n",
      "227 of 291\n",
      "228 of 291\n",
      "229 of 291\n",
      "230 of 291\n",
      "231 of 291\n",
      "232 of 291\n",
      "233 of 291\n",
      "234 of 291\n",
      "235 of 291\n",
      "236 of 291\n",
      "237 of 291\n",
      "238 of 291\n",
      "239 of 291\n",
      "240 of 291\n",
      "241 of 291\n",
      "242 of 291\n",
      "243 of 291\n",
      "244 of 291\n",
      "245 of 291\n",
      "246 of 291\n",
      "247 of 291\n",
      "248 of 291\n",
      "249 of 291\n",
      "250 of 291\n",
      "251 of 291\n",
      "252 of 291\n",
      "253 of 291\n",
      "254 of 291\n",
      "255 of 291\n",
      "256 of 291\n",
      "257 of 291\n",
      "258 of 291\n",
      "259 of 291\n",
      "260 of 291\n",
      "261 of 291\n",
      "262 of 291\n",
      "263 of 291\n",
      "264 of 291\n",
      "265 of 291\n",
      "266 of 291\n",
      "267 of 291\n",
      "268 of 291\n",
      "269 of 291\n",
      "270 of 291\n",
      "271 of 291\n",
      "272 of 291\n",
      "273 of 291\n",
      "274 of 291\n",
      "275 of 291\n",
      "276 of 291\n",
      "277 of 291\n",
      "278 of 291\n",
      "279 of 291\n",
      "280 of 291\n",
      "281 of 291\n",
      "282 of 291\n",
      "283 of 291\n",
      "284 of 291\n",
      "285 of 291\n",
      "286 of 291\n",
      "287 of 291\n",
      "288 of 291\n",
      "289 of 291\n",
      "290 of 291\n"
     ]
    }
   ],
   "source": [
    "X_train_f = []\n",
    "y_train_f = []\n",
    "\n",
    "for j in range(train_gen.n):\n",
    "    \n",
    "    print(j, \"of\",train_gen.n )\n",
    "    X, y = train_gen[j]\n",
    "    \n",
    "    groups, counts = np.unique(np.argmax(X, axis=-1), return_counts=True)\n",
    "    total = np.sum(counts)\n",
    "    vector = np.zeros(12)\n",
    "    for i,g in enumerate(groups):\n",
    "        vector[g] = counts[i] / total\n",
    "        \n",
    "        \n",
    "    X_train_f.append(vector)\n",
    "    y_train_f.append(np.argmax(y, axis=-1))\n",
    "    \n",
    "X_train_f = np.vstack(X_train_f)"
   ]
  },
  {
   "cell_type": "code",
   "execution_count": 68,
   "metadata": {
    "scrolled": true
   },
   "outputs": [
    {
     "name": "stdout",
     "output_type": "stream",
     "text": [
      "0 of 42\n",
      "1 of 42\n",
      "2 of 42\n",
      "3 of 42\n",
      "4 of 42\n",
      "5 of 42\n",
      "6 of 42\n",
      "7 of 42\n",
      "8 of 42\n",
      "9 of 42\n",
      "10 of 42\n",
      "11 of 42\n",
      "12 of 42\n",
      "13 of 42\n",
      "14 of 42\n",
      "15 of 42\n",
      "16 of 42\n",
      "17 of 42\n",
      "18 of 42\n",
      "19 of 42\n",
      "20 of 42\n",
      "21 of 42\n",
      "22 of 42\n",
      "23 of 42\n",
      "24 of 42\n",
      "25 of 42\n",
      "26 of 42\n",
      "27 of 42\n",
      "28 of 42\n",
      "29 of 42\n",
      "30 of 42\n",
      "31 of 42\n",
      "32 of 42\n",
      "33 of 42\n",
      "34 of 42\n",
      "35 of 42\n",
      "36 of 42\n",
      "37 of 42\n",
      "38 of 42\n",
      "39 of 42\n",
      "40 of 42\n",
      "41 of 42\n"
     ]
    }
   ],
   "source": [
    "X_val_f = []\n",
    "y_val_f = []\n",
    "\n",
    "for j in range(val_gen.n):\n",
    "    \n",
    "    print(j, \"of\",val_gen.n )\n",
    "    X, y = val_gen[j]\n",
    "    \n",
    "    groups, counts = np.unique(np.argmax(X, axis=-1), return_counts=True)\n",
    "    total = np.sum(counts)\n",
    "    vector = np.zeros(12)\n",
    "    for i,g in enumerate(groups):\n",
    "        vector[g] = counts[i] / total\n",
    "        \n",
    "        \n",
    "    X_val_f.append(vector)\n",
    "    y_val_f.append(np.argmax(y, axis=-1))\n",
    "    \n",
    "X_val_f = np.vstack(X_val_f)"
   ]
  },
  {
   "cell_type": "code",
   "execution_count": 69,
   "metadata": {},
   "outputs": [
    {
     "name": "stdout",
     "output_type": "stream",
     "text": [
      "0 of 47\n",
      "1 of 47\n",
      "2 of 47\n",
      "3 of 47\n",
      "4 of 47\n",
      "5 of 47\n",
      "6 of 47\n",
      "7 of 47\n",
      "8 of 47\n",
      "9 of 47\n",
      "10 of 47\n",
      "11 of 47\n",
      "12 of 47\n",
      "13 of 47\n",
      "14 of 47\n",
      "15 of 47\n",
      "16 of 47\n",
      "17 of 47\n",
      "18 of 47\n",
      "19 of 47\n",
      "20 of 47\n",
      "21 of 47\n",
      "22 of 47\n",
      "23 of 47\n",
      "24 of 47\n",
      "25 of 47\n",
      "26 of 47\n",
      "27 of 47\n",
      "28 of 47\n",
      "29 of 47\n",
      "30 of 47\n",
      "31 of 47\n",
      "32 of 47\n",
      "33 of 47\n",
      "34 of 47\n",
      "35 of 47\n",
      "36 of 47\n",
      "37 of 47\n",
      "38 of 47\n",
      "39 of 47\n",
      "40 of 47\n",
      "41 of 47\n",
      "42 of 47\n",
      "43 of 47\n",
      "44 of 47\n",
      "45 of 47\n",
      "46 of 47\n"
     ]
    }
   ],
   "source": [
    "X_test_f = []\n",
    "y_test_f = []\n",
    "\n",
    "for j in range(test_gen.n):\n",
    "    \n",
    "    print(j, \"of\",test_gen.n )\n",
    "    X, y = test_gen[j]\n",
    "    \n",
    "    groups, counts = np.unique(np.argmax(X, axis=-1), return_counts=True)\n",
    "    total = np.sum(counts)\n",
    "    vector = np.zeros(12)\n",
    "    for i,g in enumerate(groups):\n",
    "        vector[g] = counts[i] / total\n",
    "        \n",
    "        \n",
    "    X_test_f.append(vector)\n",
    "    y_test_f.append(np.argmax(y, axis=-1))\n",
    "    \n",
    "X_test_f = np.vstack(X_test_f)"
   ]
  },
  {
   "cell_type": "markdown",
   "metadata": {},
   "source": [
    "<br>"
   ]
  },
  {
   "cell_type": "code",
   "execution_count": 70,
   "metadata": {},
   "outputs": [],
   "source": [
    "from sklearn.ensemble import RandomForestClassifier"
   ]
  },
  {
   "cell_type": "code",
   "execution_count": 71,
   "metadata": {},
   "outputs": [],
   "source": [
    "clf = RandomForestClassifier(max_depth=2, random_state=0, n_estimators=100)"
   ]
  },
  {
   "cell_type": "code",
   "execution_count": 72,
   "metadata": {},
   "outputs": [
    {
     "name": "stderr",
     "output_type": "stream",
     "text": [
      "/home/simon/anaconda3/envs/DL/lib/python3.6/site-packages/ipykernel_launcher.py:1: DataConversionWarning: A column-vector y was passed when a 1d array was expected. Please change the shape of y to (n_samples,), for example using ravel().\n",
      "  \"\"\"Entry point for launching an IPython kernel.\n"
     ]
    },
    {
     "data": {
      "text/plain": [
       "RandomForestClassifier(bootstrap=True, class_weight=None, criterion='gini',\n",
       "                       max_depth=2, max_features='auto', max_leaf_nodes=None,\n",
       "                       min_impurity_decrease=0.0, min_impurity_split=None,\n",
       "                       min_samples_leaf=1, min_samples_split=2,\n",
       "                       min_weight_fraction_leaf=0.0, n_estimators=100,\n",
       "                       n_jobs=None, oob_score=False, random_state=0, verbose=0,\n",
       "                       warm_start=False)"
      ]
     },
     "execution_count": 72,
     "metadata": {},
     "output_type": "execute_result"
    }
   ],
   "source": [
    "clf.fit(X_train_f, y_train_f)"
   ]
  },
  {
   "cell_type": "code",
   "execution_count": 73,
   "metadata": {},
   "outputs": [
    {
     "data": {
      "text/plain": [
       "0.9621993127147767"
      ]
     },
     "execution_count": 73,
     "metadata": {},
     "output_type": "execute_result"
    }
   ],
   "source": [
    "clf.score(X_train_f, y_train_f)"
   ]
  },
  {
   "cell_type": "code",
   "execution_count": 75,
   "metadata": {},
   "outputs": [
    {
     "data": {
      "text/plain": [
       "0.8571428571428571"
      ]
     },
     "execution_count": 75,
     "metadata": {},
     "output_type": "execute_result"
    }
   ],
   "source": [
    "clf.score(X_val_f, y_val_f)"
   ]
  },
  {
   "cell_type": "code",
   "execution_count": 76,
   "metadata": {},
   "outputs": [
    {
     "data": {
      "text/plain": [
       "0.8723404255319149"
      ]
     },
     "execution_count": 76,
     "metadata": {},
     "output_type": "execute_result"
    }
   ],
   "source": [
    "clf.score(X_test_f, y_test_f)"
   ]
  },
  {
   "cell_type": "code",
   "execution_count": 77,
   "metadata": {},
   "outputs": [],
   "source": [
    "y_pred = clf.predict(X_test_f)"
   ]
  },
  {
   "cell_type": "code",
   "execution_count": 78,
   "metadata": {},
   "outputs": [],
   "source": [
    "y_true = np.array(y_test_f).flatten()"
   ]
  },
  {
   "cell_type": "code",
   "execution_count": 79,
   "metadata": {},
   "outputs": [
    {
     "name": "stdout",
     "output_type": "stream",
     "text": [
      "[[13.  2.  1.  0.]\n",
      " [ 1. 14.  1.  0.]\n",
      " [ 0.  1.  6.  0.]\n",
      " [ 0.  0.  0.  8.]]\n"
     ]
    }
   ],
   "source": [
    "cm = np.zeros((4, 4))\n",
    "\n",
    "for i in range(len(y_pred)):\n",
    "    r = y_true[i]\n",
    "    c = y_pred[i]\n",
    "    cm[r, c] += 1\n",
    "\n",
    "print(cm)"
   ]
  },
  {
   "cell_type": "code",
   "execution_count": 80,
   "metadata": {},
   "outputs": [],
   "source": [
    "features = clf.feature_importances_"
   ]
  },
  {
   "cell_type": "markdown",
   "metadata": {},
   "source": [
    "# Plot Feature Importance"
   ]
  },
  {
   "cell_type": "code",
   "execution_count": 81,
   "metadata": {},
   "outputs": [
    {
     "data": {
      "image/png": "[encoded data removed]",
      "text/plain": [
       "<Figure size 432x288 with 1 Axes>"
      ]
     },
     "metadata": {
      "needs_background": "light"
     },
     "output_type": "display_data"
    }
   ],
   "source": [
    "ax = plt.gca()\n",
    "\n",
    "ax.spines[\"top\"].set_visible(False)\n",
    "ax.spines[\"right\"].set_visible(False)\n",
    "\n",
    "# Points\n",
    "plt.bar(np.arange(12), features, color=colors, zorder=10)\n",
    "\n",
    "plt.xticks(ticks=range(0, 12), labels=[color_dict[_][0] for _ in range(12)])\n",
    "#plt.title(\"Two Classes\")\n",
    "plt.ylabel(\"Feature Importance\")\n",
    "plt.savefig(\"./feature_importance-random_forrest.png\", dpi=300)\n",
    "plt.show()"
   ]
  },
  {
   "cell_type": "markdown",
   "metadata": {},
   "source": [
    "# Average Training"
   ]
  },
  {
   "cell_type": "code",
   "execution_count": 82,
   "metadata": {},
   "outputs": [
    {
     "data": {
      "text/plain": [
       "(291, 12)"
      ]
     },
     "execution_count": 82,
     "metadata": {},
     "output_type": "execute_result"
    }
   ],
   "source": [
    "X_train_f.shape"
   ]
  },
  {
   "cell_type": "code",
   "execution_count": 83,
   "metadata": {},
   "outputs": [],
   "source": [
    "def encoder(pos):\n",
    "    result = np.zeros(4)\n",
    "    result[pos] = 1.\n",
    "    return result"
   ]
  },
  {
   "cell_type": "code",
   "execution_count": 84,
   "metadata": {},
   "outputs": [],
   "source": [
    "y_train = np.stack([encoder(pos[0]) for pos in y_train_f])"
   ]
  },
  {
   "cell_type": "code",
   "execution_count": 85,
   "metadata": {},
   "outputs": [],
   "source": [
    "y_val = np.stack([encoder(pos[0]) for pos in y_val_f])"
   ]
  },
  {
   "cell_type": "markdown",
   "metadata": {},
   "source": [
    "### Model"
   ]
  },
  {
   "cell_type": "code",
   "execution_count": 86,
   "metadata": {},
   "outputs": [
    {
     "name": "stdout",
     "output_type": "stream",
     "text": [
      "_________________________________________________________________\n",
      "Layer (type)                 Output Shape              Param #   \n",
      "=================================================================\n",
      "input_1 (InputLayer)         (None, 12)                0         \n",
      "_________________________________________________________________\n",
      "dense_1 (Dense)              (None, 64)                832       \n",
      "_________________________________________________________________\n",
      "dense_2 (Dense)              (None, 4)                 260       \n",
      "=================================================================\n",
      "Total params: 1,092\n",
      "Trainable params: 1,092\n",
      "Non-trainable params: 0\n",
      "_________________________________________________________________\n"
     ]
    }
   ],
   "source": [
    "K.clear_session()\n",
    "\n",
    "model_in = Input(shape=(12,))\n",
    "x = Dense(64, activation=\"relu\")(model_in)\n",
    "model_out = Dense(4, activation=\"softmax\")(x)\n",
    "avg_model = Model(inputs=[model_in], outputs=[model_out])\n",
    "avg_model.summary()"
   ]
  },
  {
   "cell_type": "code",
   "execution_count": 87,
   "metadata": {},
   "outputs": [],
   "source": [
    "avg_model.compile(optimizer=(Adam(lr=0.001)), loss='categorical_crossentropy', metrics=[\"acc\"])"
   ]
  },
  {
   "cell_type": "code",
   "execution_count": 89,
   "metadata": {},
   "outputs": [
    {
     "name": "stdout",
     "output_type": "stream",
     "text": [
      "Train on 291 samples, validate on 42 samples\n",
      "Epoch 1/10\n",
      "291/291 [==============================] - 1s 5ms/step - loss: 0.5691 - acc: 0.8282 - val_loss: 0.5688 - val_acc: 0.6905\n",
      "Epoch 2/10\n",
      "291/291 [==============================] - 1s 5ms/step - loss: 0.5271 - acc: 0.8488 - val_loss: 0.5085 - val_acc: 0.9286\n",
      "Epoch 3/10\n",
      "291/291 [==============================] - 1s 5ms/step - loss: 0.4907 - acc: 0.8625 - val_loss: 0.5107 - val_acc: 0.8810\n",
      "Epoch 4/10\n",
      "291/291 [==============================] - 1s 5ms/step - loss: 0.4644 - acc: 0.8900 - val_loss: 0.4838 - val_acc: 0.8095\n",
      "Epoch 5/10\n",
      "291/291 [==============================] - 1s 5ms/step - loss: 0.4379 - acc: 0.8935 - val_loss: 0.4410 - val_acc: 0.9286\n",
      "Epoch 6/10\n",
      "291/291 [==============================] - 1s 5ms/step - loss: 0.4125 - acc: 0.9003 - val_loss: 0.3957 - val_acc: 0.9286\n",
      "Epoch 7/10\n",
      "291/291 [==============================] - 1s 5ms/step - loss: 0.3867 - acc: 0.9107 - val_loss: 0.3710 - val_acc: 0.9286\n",
      "Epoch 8/10\n",
      "291/291 [==============================] - 2s 5ms/step - loss: 0.3640 - acc: 0.9072 - val_loss: 0.3664 - val_acc: 0.9524\n",
      "Epoch 9/10\n",
      "291/291 [==============================] - 1s 5ms/step - loss: 0.3445 - acc: 0.9175 - val_loss: 0.4061 - val_acc: 0.7619\n",
      "Epoch 10/10\n",
      "291/291 [==============================] - 1s 5ms/step - loss: 0.3286 - acc: 0.9244 - val_loss: 0.3217 - val_acc: 0.9286\n"
     ]
    }
   ],
   "source": [
    "history = avg_model.fit(x=X_train_f, y=y_train, batch_size=1, epochs=10,\n",
    "                    validation_data=[X_val_f, y_val])"
   ]
  },
  {
   "cell_type": "code",
   "execution_count": 90,
   "metadata": {},
   "outputs": [],
   "source": [
    "y_test = np.stack([encoder(pos[0]) for pos in y_test_f])"
   ]
  },
  {
   "cell_type": "code",
   "execution_count": 92,
   "metadata": {},
   "outputs": [],
   "source": [
    "pred = avg_model.predict(X_test_f)"
   ]
  },
  {
   "cell_type": "code",
   "execution_count": 93,
   "metadata": {},
   "outputs": [],
   "source": [
    "result = np.argmax(pred, axis=-1) == np.argmax(y_test, axis=-1)"
   ]
  },
  {
   "cell_type": "code",
   "execution_count": 94,
   "metadata": {},
   "outputs": [
    {
     "data": {
      "text/plain": [
       "0.851063829787234"
      ]
     },
     "execution_count": 94,
     "metadata": {},
     "output_type": "execute_result"
    }
   ],
   "source": [
    "np.sum(result) / len(result)"
   ]
  },
  {
   "cell_type": "code",
   "execution_count": 95,
   "metadata": {},
   "outputs": [],
   "source": [
    "y_true = np.argmax(y_test, axis=-1)\n",
    "y_pred = np.argmax(pred, axis=-1)"
   ]
  },
  {
   "cell_type": "code",
   "execution_count": 96,
   "metadata": {},
   "outputs": [
    {
     "name": "stdout",
     "output_type": "stream",
     "text": [
      "[[13.  3.  0.  0.]\n",
      " [ 2. 13.  1.  0.]\n",
      " [ 0.  1.  6.  0.]\n",
      " [ 0.  0.  0.  8.]]\n"
     ]
    }
   ],
   "source": [
    "cm = np.zeros((4, 4))\n",
    "\n",
    "for i in range(len(y_pred)):\n",
    "    r = y_true[i]\n",
    "    c = y_pred[i]\n",
    "    cm[r, c] += 1\n",
    "\n",
    "print(cm)"
   ]
  },
  {
   "cell_type": "markdown",
   "metadata": {},
   "source": [
    "# Nearest NeighBors"
   ]
  },
  {
   "cell_type": "code",
   "execution_count": 97,
   "metadata": {},
   "outputs": [],
   "source": [
    "from sklearn.neighbors import KNeighborsClassifier"
   ]
  },
  {
   "cell_type": "code",
   "execution_count": 98,
   "metadata": {},
   "outputs": [
    {
     "data": {
      "text/plain": [
       "(291, 12)"
      ]
     },
     "execution_count": 98,
     "metadata": {},
     "output_type": "execute_result"
    }
   ],
   "source": [
    "X_train_f.shape"
   ]
  },
  {
   "cell_type": "code",
   "execution_count": 99,
   "metadata": {},
   "outputs": [],
   "source": [
    "neigh = KNeighborsClassifier(n_neighbors=4)"
   ]
  },
  {
   "cell_type": "code",
   "execution_count": 100,
   "metadata": {},
   "outputs": [
    {
     "name": "stderr",
     "output_type": "stream",
     "text": [
      "/home/simon/anaconda3/envs/DL/lib/python3.6/site-packages/ipykernel_launcher.py:1: DataConversionWarning: A column-vector y was passed when a 1d array was expected. Please change the shape of y to (n_samples, ), for example using ravel().\n",
      "  \"\"\"Entry point for launching an IPython kernel.\n"
     ]
    },
    {
     "data": {
      "text/plain": [
       "KNeighborsClassifier(algorithm='auto', leaf_size=30, metric='minkowski',\n",
       "                     metric_params=None, n_jobs=None, n_neighbors=4, p=2,\n",
       "                     weights='uniform')"
      ]
     },
     "execution_count": 100,
     "metadata": {},
     "output_type": "execute_result"
    }
   ],
   "source": [
    "neigh.fit(X_train_f, y_train_f)"
   ]
  },
  {
   "cell_type": "code",
   "execution_count": 101,
   "metadata": {},
   "outputs": [
    {
     "data": {
      "text/plain": [
       "0.8487972508591065"
      ]
     },
     "execution_count": 101,
     "metadata": {},
     "output_type": "execute_result"
    }
   ],
   "source": [
    "neigh.score(X_train_f, y_train_f)"
   ]
  },
  {
   "cell_type": "code",
   "execution_count": 102,
   "metadata": {},
   "outputs": [
    {
     "data": {
      "text/plain": [
       "0.8333333333333334"
      ]
     },
     "execution_count": 102,
     "metadata": {},
     "output_type": "execute_result"
    }
   ],
   "source": [
    "neigh.score(X_val_f, y_val_f)"
   ]
  },
  {
   "cell_type": "code",
   "execution_count": 103,
   "metadata": {},
   "outputs": [
    {
     "data": {
      "text/plain": [
       "0.8085106382978723"
      ]
     },
     "execution_count": 103,
     "metadata": {},
     "output_type": "execute_result"
    }
   ],
   "source": [
    "neigh.score(X_test_f, y_test_f)"
   ]
  },
  {
   "cell_type": "code",
   "execution_count": 104,
   "metadata": {},
   "outputs": [],
   "source": [
    "y_pred = neigh.predict(X_test_f)"
   ]
  },
  {
   "cell_type": "code",
   "execution_count": 105,
   "metadata": {},
   "outputs": [],
   "source": [
    "y_true = np.array([ thing[0] for thing in y_test_f])"
   ]
  },
  {
   "cell_type": "code",
   "execution_count": 106,
   "metadata": {},
   "outputs": [
    {
     "name": "stdout",
     "output_type": "stream",
     "text": [
      "[[11.  1.  4.  0.]\n",
      " [ 0. 14.  2.  0.]\n",
      " [ 2.  0.  5.  0.]\n",
      " [ 0.  0.  0.  8.]]\n"
     ]
    }
   ],
   "source": [
    "cm = np.zeros((4, 4))\n",
    "\n",
    "for i in range(len(y_pred)):\n",
    "    r = y_true[i]\n",
    "    c = y_pred[i]\n",
    "    cm[r, c] += 1\n",
    "\n",
    "print(cm)"
   ]
  },
  {
   "cell_type": "markdown",
   "metadata": {},
   "source": [
    "# Gradients"
   ]
  },
  {
   "cell_type": "code",
   "execution_count": 90,
   "metadata": {},
   "outputs": [],
   "source": [
    "def reset_weights(model):\n",
    "    import keras.backend as K\n",
    "    session = K.get_session()\n",
    "    for layer in model.layers: \n",
    "        if hasattr(layer, 'kernel_initializer'): \n",
    "            layer.kernel.initializer.run(session=session)\n",
    "        if hasattr(layer, 'bias_initializer'):\n",
    "            layer.bias.initializer.run(session=session)"
   ]
  },
  {
   "cell_type": "code",
   "execution_count": 91,
   "metadata": {},
   "outputs": [],
   "source": [
    "reset_weights(model)"
   ]
  },
  {
   "cell_type": "code",
   "execution_count": 32,
   "metadata": {},
   "outputs": [],
   "source": [
    "all_files = train_gen.files"
   ]
  },
  {
   "cell_type": "code",
   "execution_count": 34,
   "metadata": {},
   "outputs": [],
   "source": [
    "healthy = [ file for file in all_files if \"HEAL\" in file]\n",
    "bcc = [ file for file in all_files if \"BCC\" in file]\n",
    "iec = [ file for file in all_files if \"IEC\" in file]\n",
    "scc = [ file for file in all_files if \"SCC\" in file]"
   ]
  },
  {
   "cell_type": "code",
   "execution_count": 19,
   "metadata": {},
   "outputs": [],
   "source": [
    "def normalize(x):\n",
    "    \"\"\"utility function to normalize a tensor.\n",
    "\n",
    "    # Arguments\n",
    "        x: An input tensor.\n",
    "\n",
    "    # Returns\n",
    "        The normalized input tensor.\n",
    "    \"\"\"\n",
    "    return x / (K.sqrt(K.mean(K.square(x))) + K.epsilon())"
   ]
  },
  {
   "cell_type": "code",
   "execution_count": 35,
   "metadata": {},
   "outputs": [],
   "source": [
    "gen = DataGen(\".\", 1, apply_to_all=True)"
   ]
  },
  {
   "cell_type": "code",
   "execution_count": 36,
   "metadata": {},
   "outputs": [
    {
     "name": "stdout",
     "output_type": "stream",
     "text": [
      "files updated\n"
     ]
    }
   ],
   "source": []
  },
  {
   "cell_type": "code",
   "execution_count": 43,
   "metadata": {},
   "outputs": [],
   "source": [
    "X, y = gen[3]"
   ]
  },
  {
   "cell_type": "code",
   "execution_count": 67,
   "metadata": {},
   "outputs": [
    {
     "data": {
      "image/png": "[encoded data removed]",
      "text/plain": [
       "<Figure size 432x288 with 1 Axes>"
      ]
     },
     "metadata": {
      "needs_background": "light"
     },
     "output_type": "display_data"
    }
   ],
   "source": [
    "plt.imshow(np.argmax(X, axis=-1)[0], vmin=0, vmax=11, cmap=seg_cmap)\n",
    "plt.show()"
   ]
  },
  {
   "cell_type": "code",
   "execution_count": 95,
   "metadata": {},
   "outputs": [
    {
     "name": "stdout",
     "output_type": "stream",
     "text": [
      "files updated\n",
      "1 of 60\n",
      "2 of 60\n",
      "3 of 60\n",
      "4 of 60\n",
      "5 of 60\n",
      "6 of 60\n",
      "7 of 60\n",
      "8 of 60\n",
      "9 of 60\n",
      "10 of 60\n",
      "11 of 60\n",
      "12 of 60\n",
      "13 of 60\n",
      "14 of 60\n",
      "15 of 60\n",
      "16 of 60\n",
      "17 of 60\n",
      "18 of 60\n",
      "19 of 60\n",
      "20 of 60\n",
      "21 of 60\n",
      "22 of 60\n",
      "23 of 60\n",
      "24 of 60\n",
      "25 of 60\n",
      "26 of 60\n",
      "27 of 60\n",
      "28 of 60\n",
      "29 of 60\n",
      "30 of 60\n",
      "31 of 60\n",
      "32 of 60\n",
      "33 of 60\n",
      "34 of 60\n",
      "35 of 60\n",
      "36 of 60\n",
      "37 of 60\n",
      "38 of 60\n",
      "39 of 60\n",
      "40 of 60\n",
      "41 of 60\n",
      "42 of 60\n",
      "43 of 60\n",
      "44 of 60\n",
      "45 of 60\n",
      "46 of 60\n",
      "47 of 60\n",
      "48 of 60\n",
      "49 of 60\n",
      "50 of 60\n",
      "51 of 60\n",
      "52 of 60\n",
      "53 of 60\n",
      "54 of 60\n",
      "55 of 60\n",
      "56 of 60\n",
      "57 of 60\n",
      "58 of 60\n",
      "59 of 60\n",
      "60 of 60\n"
     ]
    }
   ],
   "source": [
    "gen.set_files(healthy)\n",
    "pos = 0\n",
    "\n",
    "loss = -model.layers[-1].output[:, pos]\n",
    "input_tensor = model.inputs[0]\n",
    "grads = K.gradients(loss, input_tensor)[0]\n",
    "grads = normalize(grads)\n",
    "# this function returns the loss and grads given the input picture\n",
    "get_grads = K.function([input_tensor], [grads])\n",
    "\n",
    "\n",
    "healthy_features = []\n",
    "for i in range(gen.n):\n",
    "    \n",
    "    print(i+1, \"of\", gen.n)\n",
    "    \n",
    "    X, y = gen[i]\n",
    "    \n",
    "    g = get_grads([X])[0][0]\n",
    "    \n",
    "    features = np.mean(np.abs(g), axis=(0, 1))\n",
    "    \n",
    "    features /= features.max()\n",
    "    \n",
    "    healthy_features.append(features)\n",
    "\n",
    "#     fig, ax = plt.subplots(1, 2, figsize=(12, 12))\n",
    "#     ax[0].imshow(np.argmax(X, axis=-1)[0], vmin=0, vmax=11, cmap=seg_cmap)\n",
    "#     #plt.show()\n",
    "    \n",
    "#     img = np.mean(np.abs(g), axis=-1)\n",
    "#     img /= img.max()\n",
    "    \n",
    "#     ax[1].imshow(img, cmap=\"magma\")\n",
    "#     plt.show()\n",
    "\n",
    "healthy_features = np.stack(healthy_features)"
   ]
  },
  {
   "cell_type": "code",
   "execution_count": 106,
   "metadata": {},
   "outputs": [
    {
     "data": {
      "text/plain": [
       "'BCC_48_HEAL_2.png'"
      ]
     },
     "execution_count": 106,
     "metadata": {},
     "output_type": "execute_result"
    }
   ],
   "source": [
    "test_gen.files[0].split(\"/\")[-1].split(\".\")[0] + \".png\""
   ]
  },
  {
   "cell_type": "code",
   "execution_count": 109,
   "metadata": {},
   "outputs": [
    {
     "name": "stdout",
     "output_type": "stream",
     "text": [
      "files updated\n",
      "1 of 47\n",
      "2 of 47\n",
      "3 of 47\n",
      "4 of 47\n",
      "5 of 47\n",
      "6 of 47\n",
      "7 of 47\n",
      "8 of 47\n",
      "9 of 47\n",
      "10 of 47\n",
      "11 of 47\n",
      "12 of 47\n",
      "13 of 47\n",
      "14 of 47\n",
      "15 of 47\n",
      "16 of 47\n",
      "17 of 47\n",
      "18 of 47\n",
      "19 of 47\n",
      "20 of 47\n",
      "21 of 47\n",
      "22 of 47\n",
      "23 of 47\n",
      "24 of 47\n",
      "25 of 47\n",
      "26 of 47\n",
      "27 of 47\n",
      "28 of 47\n",
      "29 of 47\n",
      "30 of 47\n",
      "31 of 47\n",
      "32 of 47\n",
      "33 of 47\n",
      "34 of 47\n",
      "35 of 47\n",
      "36 of 47\n",
      "37 of 47\n",
      "38 of 47\n",
      "39 of 47\n",
      "40 of 47\n",
      "41 of 47\n",
      "42 of 47\n",
      "43 of 47\n",
      "44 of 47\n",
      "45 of 47\n",
      "46 of 47\n",
      "47 of 47\n"
     ]
    }
   ],
   "source": [
    "gen.set_files(test_gen.files)\n",
    "\n",
    "\n",
    "for i in range(gen.n):\n",
    "    \n",
    "    print(i+1, \"of\", gen.n)\n",
    "    \n",
    "    X, y = gen[i]\n",
    "    \n",
    "    \n",
    "    pos = np.argmax(y)\n",
    "    \n",
    "    # Get Grads\n",
    "    loss = -model.layers[-1].output[:, pos]\n",
    "    input_tensor = model.inputs[0]\n",
    "    grads = K.gradients(loss, input_tensor)[0]\n",
    "    grads = normalize(grads)\n",
    "    # this function returns the loss and grads given the input picture\n",
    "    get_grads = K.function([input_tensor], [grads])\n",
    "    g = get_grads([X])[0][0]\n",
    "\n",
    "\n",
    "    fig, ax = plt.subplots(1, 2, figsize=(12, 12))\n",
    "    ax[0].imshow(np.argmax(X, axis=-1)[0], vmin=0, vmax=11, cmap=seg_cmap)\n",
    "    ax[0].axis(\"off\")\n",
    "    #plt.show()\n",
    "    \n",
    "    img = np.mean(np.abs(g), axis=-1)\n",
    "    img /= img.max()\n",
    "    \n",
    "    ax[1].imshow(img, cmap=\"magma\")\n",
    "    ax[1].axis(\"off\")\n",
    "    \n",
    "    \n",
    "    plt.savefig(f\"./FEATURE_IMPORTANCE/{i}.png\", dpi=100)\n",
    "    plt.close()"
   ]
  },
  {
   "cell_type": "code",
   "execution_count": 66,
   "metadata": {},
   "outputs": [
    {
     "data": {
      "image/png": "[encoded data removed]",
      "text/plain": [
       "<Figure size 432x288 with 1 Axes>"
      ]
     },
     "metadata": {
      "needs_background": "light"
     },
     "output_type": "display_data"
    }
   ],
   "source": [
    "bplot = plt.boxplot(healthy_features,\n",
    "                showfliers=False,\n",
    "                medianprops=dict(color=\"black\"),\n",
    "                patch_artist=True\n",
    "               )\n",
    "plt.xticks(ticks=range(1, 13), labels=[color_dict[_][0] for _ in range(12)])\n",
    "plt.ylabel(\"Relative Feature Importance\")\n",
    "\n",
    "for patch, color in zip(bplot[\"boxes\"], colors):\n",
    "    patch.set_facecolor(color)\n",
    "    \n",
    "ax = plt.gca()\n",
    "\n",
    "ax.spines[\"top\"].set_visible(False)\n",
    "ax.spines[\"right\"].set_visible(False)\n",
    "\n",
    "plt.title('Classification of Healthy')\n",
    "\n",
    "plt.savefig(\"./relative_feature_importance_Healthy.png\", dpi=300)\n",
    "plt.show()"
   ]
  },
  {
   "cell_type": "code",
   "execution_count": 70,
   "metadata": {},
   "outputs": [
    {
     "data": {
      "image/png": "[encoded data removed]",
      "text/plain": [
       "<Figure size 432x288 with 1 Axes>"
      ]
     },
     "metadata": {
      "needs_background": "light"
     },
     "output_type": "display_data"
    }
   ],
   "source": [
    "bplot = plt.boxplot(bcc_features,\n",
    "                showfliers=False,\n",
    "                medianprops=dict(color=\"black\"),\n",
    "                patch_artist=True\n",
    "               )\n",
    "plt.xticks(ticks=range(1, 13), labels=[color_dict[_][0] for _ in range(12)])\n",
    "plt.ylabel(\"Relative Feature Importance\")\n",
    "\n",
    "for patch, color in zip(bplot[\"boxes\"], colors):\n",
    "    patch.set_facecolor(color)\n",
    "    \n",
    "ax = plt.gca()\n",
    "\n",
    "ax.spines[\"top\"].set_visible(False)\n",
    "ax.spines[\"right\"].set_visible(False)\n",
    "\n",
    "plt.title('Classification of BCC')\n",
    "\n",
    "plt.savefig(\"./relative_feature_importance_BCC.png\", dpi=300)\n",
    "plt.show()"
   ]
  },
  {
   "cell_type": "code",
   "execution_count": 72,
   "metadata": {},
   "outputs": [
    {
     "data": {
      "image/png": "[encoded data removed]",
      "text/plain": [
       "<Figure size 432x288 with 1 Axes>"
      ]
     },
     "metadata": {
      "needs_background": "light"
     },
     "output_type": "display_data"
    }
   ],
   "source": [
    "bplot = plt.boxplot(iec_features,\n",
    "                showfliers=False,\n",
    "                medianprops=dict(color=\"black\"),\n",
    "                patch_artist=True\n",
    "               )\n",
    "plt.xticks(ticks=range(1, 13), labels=[color_dict[_][0] for _ in range(12)])\n",
    "plt.ylabel(\"Relative Feature Importance\")\n",
    "\n",
    "for patch, color in zip(bplot[\"boxes\"], colors):\n",
    "    patch.set_facecolor(color)\n",
    "    \n",
    "ax = plt.gca()\n",
    "\n",
    "ax.spines[\"top\"].set_visible(False)\n",
    "ax.spines[\"right\"].set_visible(False)\n",
    "\n",
    "plt.title('Classification of IEC')\n",
    "\n",
    "plt.savefig(\"./relative_feature_importance_IEC.png\", dpi=300)\n",
    "plt.show()"
   ]
  },
  {
   "cell_type": "code",
   "execution_count": 74,
   "metadata": {},
   "outputs": [
    {
     "data": {
      "image/png": "[encoded data removed]",
      "text/plain": [
       "<Figure size 432x288 with 1 Axes>"
      ]
     },
     "metadata": {
      "needs_background": "light"
     },
     "output_type": "display_data"
    }
   ],
   "source": [
    "bplot = plt.boxplot(scc_features,\n",
    "                showfliers=False,\n",
    "                medianprops=dict(color=\"black\"),\n",
    "                patch_artist=True\n",
    "               )\n",
    "plt.xticks(ticks=range(1, 13), labels=[color_dict[_][0] for _ in range(12)])\n",
    "plt.ylabel(\"Relative Feature Importance\")\n",
    "\n",
    "for patch, color in zip(bplot[\"boxes\"], colors):\n",
    "    patch.set_facecolor(color)\n",
    "    \n",
    "ax = plt.gca()\n",
    "\n",
    "ax.spines[\"top\"].set_visible(False)\n",
    "ax.spines[\"right\"].set_visible(False)\n",
    "\n",
    "plt.title('Classification of SCC')\n",
    "\n",
    "plt.savefig(\"./relative_feature_importance_SCC.png\", dpi=300)\n",
    "plt.show()"
   ]
  },
  {
   "cell_type": "code",
   "execution_count": 81,
   "metadata": {},
   "outputs": [],
   "source": [
    "combined_features = np.vstack([healthy_features, bcc_features, iec_features, scc_features])"
   ]
  },
  {
   "cell_type": "code",
   "execution_count": 82,
   "metadata": {},
   "outputs": [
    {
     "data": {
      "image/png": "[encoded data removed]",
      "text/plain": [
       "<Figure size 432x288 with 1 Axes>"
      ]
     },
     "metadata": {
      "needs_background": "light"
     },
     "output_type": "display_data"
    }
   ],
   "source": [
    "bplot = plt.boxplot(combined_features,\n",
    "                showfliers=False,\n",
    "                medianprops=dict(color=\"black\"),\n",
    "                patch_artist=True\n",
    "               )\n",
    "plt.xticks(ticks=range(1, 13), labels=[color_dict[_][0] for _ in range(12)])\n",
    "plt.ylabel(\"Relative Feature Importance\")\n",
    "\n",
    "for patch, color in zip(bplot[\"boxes\"], colors):\n",
    "    patch.set_facecolor(color)\n",
    "    \n",
    "ax = plt.gca()\n",
    "\n",
    "ax.spines[\"top\"].set_visible(False)\n",
    "ax.spines[\"right\"].set_visible(False)\n",
    "\n",
    "\n",
    "plt.savefig(\"./relative_feature_importance_ALL.png\", dpi=300)\n",
    "plt.show()"
   ]
  },
  {
   "cell_type": "code",
   "execution_count": 96,
   "metadata": {},
   "outputs": [],
   "source": [
    "random_combined_features = np.vstack([healthy_features, bcc_features, iec_features, scc_features])"
   ]
  },
  {
   "cell_type": "code",
   "execution_count": 103,
   "metadata": {},
   "outputs": [
    {
     "data": {
      "image/png": "[encoded data removed]",
      "text/plain": [
       "<Figure size 432x288 with 1 Axes>"
      ]
     },
     "metadata": {
      "needs_background": "light"
     },
     "output_type": "display_data"
    }
   ],
   "source": [
    "bplot = plt.boxplot(random_combined_features,\n",
    "                showfliers=False,\n",
    "                medianprops=dict(color=\"black\"),\n",
    "                patch_artist=True\n",
    "               )\n",
    "plt.xticks(ticks=range(1, 13), labels=[color_dict[_][0] for _ in range(12)])\n",
    "plt.ylabel(\"Relative Feature Importance\")\n",
    "\n",
    "for patch, color in zip(bplot[\"boxes\"], colors):\n",
    "    patch.set_facecolor(color)\n",
    "    \n",
    "ax = plt.gca()\n",
    "\n",
    "ax.spines[\"top\"].set_visible(False)\n",
    "ax.spines[\"right\"].set_visible(False)\n",
    "\n",
    "\n",
    "plt.savefig(\"./relative_feature_importance_ALL_RANDOM.png\", dpi=300)\n",
    "plt.show()"
   ]
  },
  {
   "cell_type": "markdown",
   "metadata": {},
   "source": [
    "# Confusion Matrix"
   ]
  },
  {
   "cell_type": "code",
   "execution_count": 169,
   "metadata": {},
   "outputs": [],
   "source": [
    "cm = np.array([[16.,  0.,  0.,  0.],\n",
    "       [ 1., 14.,  1.,  0.],\n",
    "       [ 0.,  1.,  6.,  0.],\n",
    "       [ 0.,  0.,  0.,  8.]])"
   ]
  },
  {
   "cell_type": "code",
   "execution_count": 170,
   "metadata": {},
   "outputs": [],
   "source": [
    "cm = cm / np.sum(cm, axis=1)"
   ]
  },
  {
   "attachments": {
    "image.png": {
     "image/png": "[encoded data removed]"
    }
   },
   "cell_type": "markdown",
   "metadata": {},
   "source": [
    "![image.png](attachment:image.png)"
   ]
  },
  {
   "cell_type": "code",
   "execution_count": 171,
   "metadata": {},
   "outputs": [],
   "source": [
    "#from matplotlib import cm\n",
    "from matplotlib.colors import ListedColormap, LinearSegmentedColormap\n",
    "from mpl_toolkits.axes_grid1 import make_axes_locatable"
   ]
  },
  {
   "cell_type": "code",
   "execution_count": 172,
   "metadata": {},
   "outputs": [],
   "source": [
    "dark_purple = (162/255., 30/255., 140/255.) #rgb(64%, 12%, 55%)\n",
    "grey = (0.94, 0.94, 0.94)\n",
    "\n",
    "norm=plt.Normalize(0,1)\n",
    "cmap = LinearSegmentedColormap.from_list(\"\", [grey, dark_purple])"
   ]
  },
  {
   "cell_type": "code",
   "execution_count": 173,
   "metadata": {},
   "outputs": [
    {
     "data": {
      "image/png": "[encoded data removed]",
      "text/plain": [
       "<Figure size 432x432 with 2 Axes>"
      ]
     },
     "metadata": {
      "needs_background": "light"
     },
     "output_type": "display_data"
    }
   ],
   "source": [
    "fig, ax = plt.subplots(1, 1, figsize=(6, 6))\n",
    "cs = ax.matshow(cm, cmap=cmap)\n",
    "ax.set_xlabel(\"Predict\", fontsize=15)\n",
    "ax.set_ylabel(\"True\", fontsize=15)\n",
    "\n",
    "\n",
    "ax.spines['top'].set_visible(False)\n",
    "ax.spines['right'].set_visible(False)\n",
    "ax.spines['bottom'].set_visible(False)\n",
    "ax.spines['left'].set_visible(False)\n",
    "\n",
    "\n",
    "ax.set_xticklabels([\"_\", \"Healthy\", \"BCC\", \"IEC\", \"SCC\"])\n",
    "ax.set_yticklabels([\"_\", \"Healthy\", \"BCC\", \"IEC\", \"SCC\"])\n",
    "\n",
    "ax.tick_params(length=0, which=\"both\", labelsize=12)\n",
    "\n",
    "ax.set_xticks([x - 0.5 for x in plt.gca().get_xticks()][1:], minor='true')\n",
    "ax.set_yticks([y - 0.5 for y in plt.gca().get_yticks()][1:], minor='true')\n",
    "ax.grid(which='minor', color=\"white\", lw=3)\n",
    "\n",
    "# create an axes on the right side of ax. The width of cax will be 5%\n",
    "# of ax and the padding between cax and ax will be fixed at 0.05 inch.\n",
    "divider = make_axes_locatable(ax)\n",
    "cax = divider.append_axes(\"right\", size=\"5%\", pad=0.1)\n",
    "cb = plt.colorbar(cs, cax=cax)\n",
    "cb.outline.set_visible(False)\n",
    "cb.ax.tick_params(length=0)\n",
    "\n",
    "for r in range(4):\n",
    "    for c in range(4):\n",
    "        num = np.round(cm[r, c], 3)\n",
    "        \n",
    "        if num == 0:\n",
    "            continue\n",
    "            \n",
    "        if r == c:\n",
    "            if num == 1:\n",
    "                ax.text(c-0.12, r+0.05, str(num), color=\"white\", fontsize=15)\n",
    "            else:\n",
    "                ax.text(c-0.25, r+0.05, str(num), color=\"white\", fontsize=15)\n",
    "        \n",
    "        else:\n",
    "            ax.text(c-0.25, r+0.05, str(num), color=\"black\", fontsize=15)\n",
    "plt.tight_layout()\n",
    "plt.savefig(\"./confusion_matrix_TEST.png\", dpi=300)         \n",
    "plt.show()"
   ]
  },
  {
   "cell_type": "code",
   "execution_count": 144,
   "metadata": {},
   "outputs": [],
   "source": [
    "# binary"
   ]
  },
  {
   "cell_type": "code",
   "execution_count": 153,
   "metadata": {},
   "outputs": [
    {
     "data": {
      "text/plain": [
       "30.0"
      ]
     },
     "execution_count": 153,
     "metadata": {},
     "output_type": "execute_result"
    }
   ],
   "source": [
    "np.sum(cm[1:, 1:])"
   ]
  },
  {
   "cell_type": "code",
   "execution_count": 154,
   "metadata": {},
   "outputs": [
    {
     "data": {
      "text/plain": [
       "array([[16.,  0.,  0.,  0.],\n",
       "       [ 1., 14.,  1.,  0.],\n",
       "       [ 0.,  1.,  6.,  0.],\n",
       "       [ 0.,  0.,  0.,  8.]])"
      ]
     },
     "execution_count": 154,
     "metadata": {},
     "output_type": "execute_result"
    }
   ],
   "source": [
    "cm"
   ]
  },
  {
   "cell_type": "code",
   "execution_count": 155,
   "metadata": {},
   "outputs": [],
   "source": [
    "binary = np.array([[16, 0],\n",
    "                   [1, 30]])"
   ]
  },
  {
   "cell_type": "code",
   "execution_count": 156,
   "metadata": {},
   "outputs": [
    {
     "data": {
      "text/plain": [
       "0.9787234042553191"
      ]
     },
     "execution_count": 156,
     "metadata": {},
     "output_type": "execute_result"
    }
   ],
   "source": [
    "np.sum(np.diag(binary)) / np.sum(cm)"
   ]
  },
  {
   "cell_type": "code",
   "execution_count": 165,
   "metadata": {},
   "outputs": [
    {
     "data": {
      "text/plain": [
       "0.9787234042553191"
      ]
     },
     "execution_count": 165,
     "metadata": {},
     "output_type": "execute_result"
    }
   ],
   "source": [
    "# RF\n",
    "\n",
    "cm = np.array([[13.,  2.,  1.,  0.],\n",
    "                 [ 1., 14.,  1.,  0.],\n",
    "                 [ 0.,  1.,  6.,  0.],\n",
    "                 [ 0.,  0.,  0.,  8.]])\n",
    "\n",
    "\n",
    "binary = np.array([[16, 3],\n",
    "                   [1, np.sum(cm[1:, 1:])]])\n",
    "\n",
    "np.sum(np.diag(binary)) / np.sum(cm)\n",
    "\n"
   ]
  },
  {
   "cell_type": "code",
   "execution_count": 167,
   "metadata": {},
   "outputs": [
    {
     "data": {
      "text/plain": [
       "0.851063829787234"
      ]
     },
     "execution_count": 167,
     "metadata": {},
     "output_type": "execute_result"
    }
   ],
   "source": [
    "# KNN\n",
    "cm = np.array([  [11.,  1.,  4.,  0.],\n",
    "                 [ 0., 14.,  2.,  0.],\n",
    "                 [ 2.,  0.,  5.,  0.],\n",
    "                 [ 0.,  0.,  0.,  8.]])\n",
    "\n",
    "\n",
    "binary = np.array([[11, 5],\n",
    "                   [2, np.sum(cm[1:, 1:])]])\n",
    "\n",
    "np.sum(np.diag(binary)) / np.sum(cm)\n"
   ]
  },
  {
   "cell_type": "code",
   "execution_count": 168,
   "metadata": {},
   "outputs": [
    {
     "data": {
      "text/plain": [
       "0.8936170212765957"
      ]
     },
     "execution_count": 168,
     "metadata": {},
     "output_type": "execute_result"
    }
   ],
   "source": [
    "# SLP\n",
    "\n",
    "cm = np.array([[13.,  3.,  0.,  0.],\n",
    "               [ 2., 13.,  1.,  0.],\n",
    "               [ 0.,  1.,  6.,  0.],\n",
    "               [ 0.,  0.,  0.,  8.]])\n",
    "\n",
    "binary = np.array([[13, 3],\n",
    "                   [2, np.sum(cm[1:, 1:])]])\n",
    "\n",
    "np.sum(np.diag(binary)) / np.sum(cm)\n"
   ]
  },
  {
   "cell_type": "code",
   "execution_count": null,
   "metadata": {},
   "outputs": [],
   "source": []
  },
  {
   "cell_type": "code",
   "execution_count": null,
   "metadata": {},
   "outputs": [],
   "source": []
  },
  {
   "cell_type": "code",
   "execution_count": null,
   "metadata": {},
   "outputs": [],
   "source": []
  },
  {
   "cell_type": "code",
   "execution_count": null,
   "metadata": {},
   "outputs": [],
   "source": []
  },
  {
   "cell_type": "code",
   "execution_count": null,
   "metadata": {},
   "outputs": [],
   "source": []
  },
  {
   "cell_type": "markdown",
   "metadata": {},
   "source": [
    "## External Data"
   ]
  },
  {
   "cell_type": "code",
   "execution_count": 174,
   "metadata": {},
   "outputs": [],
   "source": [
    "cm = np.array([ [40.,  0.,  0.,  0.],\n",
    "                [ 2., 22.,  3.,  0.],\n",
    "                [ 1.,  1., 21.,  1.],\n",
    "                [ 0.,  0.,  6., 19.]])"
   ]
  },
  {
   "cell_type": "code",
   "execution_count": 175,
   "metadata": {},
   "outputs": [],
   "source": [
    "cm = cm / np.sum(cm, axis=1)"
   ]
  },
  {
   "cell_type": "code",
   "execution_count": 176,
   "metadata": {},
   "outputs": [
    {
     "data": {
      "image/png": "[encoded data removed]",
      "text/plain": [
       "<Figure size 432x432 with 2 Axes>"
      ]
     },
     "metadata": {
      "needs_background": "light"
     },
     "output_type": "display_data"
    }
   ],
   "source": [
    "fig, ax = plt.subplots(1, 1, figsize=(6, 6))\n",
    "cs = ax.matshow(cm, cmap=cmap)\n",
    "ax.set_xlabel(\"Predict\", fontsize=15)\n",
    "ax.set_ylabel(\"True\", fontsize=15)\n",
    "\n",
    "\n",
    "ax.spines['top'].set_visible(False)\n",
    "ax.spines['right'].set_visible(False)\n",
    "ax.spines['bottom'].set_visible(False)\n",
    "ax.spines['left'].set_visible(False)\n",
    "\n",
    "\n",
    "ax.set_xticklabels([\"_\", \"Healthy\", \"BCC\", \"IEC\", \"SCC\"])\n",
    "ax.set_yticklabels([\"_\", \"Healthy\", \"BCC\", \"IEC\", \"SCC\"])\n",
    "\n",
    "ax.tick_params(length=0, which=\"both\", labelsize=12)\n",
    "\n",
    "ax.set_xticks([x - 0.5 for x in plt.gca().get_xticks()][1:], minor='true')\n",
    "ax.set_yticks([y - 0.5 for y in plt.gca().get_yticks()][1:], minor='true')\n",
    "ax.grid(which='minor', color=\"white\", lw=3)\n",
    "\n",
    "# create an axes on the right side of ax. The width of cax will be 5%\n",
    "# of ax and the padding between cax and ax will be fixed at 0.05 inch.\n",
    "divider = make_axes_locatable(ax)\n",
    "cax = divider.append_axes(\"right\", size=\"5%\", pad=0.1)\n",
    "cb = plt.colorbar(cs, cax=cax)\n",
    "cb.outline.set_visible(False)\n",
    "cb.ax.tick_params(length=0)\n",
    "\n",
    "for r in range(4):\n",
    "    for c in range(4):\n",
    "        num = np.round(cm[r, c], 3)\n",
    "        \n",
    "        if num == 0:\n",
    "            continue\n",
    "            \n",
    "        if r == c:\n",
    "            if num == 1:\n",
    "                ax.text(c-0.12, r+0.05, str(num), color=\"white\", fontsize=15)\n",
    "            else:\n",
    "                ax.text(c-0.25, r+0.05, str(num), color=\"white\", fontsize=15)\n",
    "        \n",
    "        else:\n",
    "            ax.text(c-0.25, r+0.05, str(num), color=\"black\", fontsize=15)\n",
    "plt.tight_layout()\n",
    "plt.savefig(\"./confusion_matrix_EXT.png\", dpi=300)         \n",
    "plt.show()"
   ]
  },
  {
   "cell_type": "code",
   "execution_count": 158,
   "metadata": {},
   "outputs": [
    {
     "data": {
      "text/plain": [
       "73.0"
      ]
     },
     "execution_count": 158,
     "metadata": {},
     "output_type": "execute_result"
    }
   ],
   "source": [
    "np.sum(cm[1:, 1:])"
   ]
  },
  {
   "cell_type": "code",
   "execution_count": 3,
   "metadata": {},
   "outputs": [],
   "source": [
    "cm = np.array([[40.,  0.,  0.,  0.],\n",
    "       [ 2., 22.,  3.,  0.],\n",
    "       [ 1.,  1., 21.,  1.],\n",
    "       [ 0.,  0.,  6., 19.]])"
   ]
  },
  {
   "cell_type": "code",
   "execution_count": 1,
   "metadata": {},
   "outputs": [],
   "source": [
    "import numpy as np"
   ]
  },
  {
   "cell_type": "code",
   "execution_count": 2,
   "metadata": {},
   "outputs": [
    {
     "data": {
      "text/plain": [
       "0.9741379310344828"
      ]
     },
     "execution_count": 2,
     "metadata": {},
     "output_type": "execute_result"
    }
   ],
   "source": [
    "binary = np.array([[40, 0],\n",
    "                   [3, 73]])\n",
    "\n",
    "np.sum(np.diag(binary)) / np.sum(binary)"
   ]
  },
  {
   "cell_type": "code",
   "execution_count": 4,
   "metadata": {},
   "outputs": [
    {
     "data": {
      "text/plain": [
       "0.8793103448275862"
      ]
     },
     "execution_count": 4,
     "metadata": {},
     "output_type": "execute_result"
    }
   ],
   "source": [
    "np.sum(np.diag(cm)) / np.sum(cm)"
   ]
  },
  {
   "cell_type": "code",
   "execution_count": 5,
   "metadata": {},
   "outputs": [
    {
     "data": {
      "text/plain": [
       "116.0"
      ]
     },
     "execution_count": 5,
     "metadata": {},
     "output_type": "execute_result"
    }
   ],
   "source": [
    "np.sum(cm)"
   ]
  }
 ],
 "metadata": {
  "kernelspec": {
   "display_name": "Python 3",
   "language": "python",
   "name": "python3"
  },
  "language_info": {
   "codemirror_mode": {
    "name": "ipython",
    "version": 3
   },
   "file_extension": ".py",
   "mimetype": "text/x-python",
   "name": "python",
   "nbconvert_exporter": "python",
   "pygments_lexer": "ipython3",
   "version": "3.6.9"
  }
 },
 "nbformat": 4,
 "nbformat_minor": 2
}
